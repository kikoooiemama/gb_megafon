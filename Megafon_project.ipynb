{
 "cells": [
  {
   "cell_type": "markdown",
   "id": "1f06b4fd",
   "metadata": {},
   "source": [
    "# Финальный проект по видеокурсу от MegaFon <a class='anchor' id='begin'>\n",
    "    \n",
    "    \n",
    "Автор: Николай Пахомов ([git](https://github.com/kikoooiemama), [telegram](https://t.me/kikoooiemama), [kaggle](https://www.kaggle.com/kikoooiemama))<br>    "
   ]
  },
  {
   "cell_type": "markdown",
   "id": "e5b41f31",
   "metadata": {},
   "source": [
    "## Содержание\n",
    "* [Финальный проект по видеокурсу от MegaFon](#begin) \n",
    "    * [Задание](#task)\n",
    "    * [Описание данных](#data_description)\n",
    "    * [Загрузка библиотек и PATHS](#load_help)\n",
    "    * [Загрузка данных](#load_data)\n",
    "    * [1. Анализ данных](#eda)\n",
    "    * [2. Подготовка и отбор признаков](#data_preparation)\n",
    "    * [3. Разбиение на train и test](#split)\n",
    "    * [4. Моделирование](#modeling)\n",
    "    * [5. Оценка](#evaluation)    \n",
    "    * [6. Прогнозирование на тестовом датасете](#prediction)"
   ]
  },
  {
   "cell_type": "markdown",
   "id": "81232119",
   "metadata": {},
   "source": [
    "## Задание <a class='anchor' id='task'>"
   ]
  },
  {
   "cell_type": "markdown",
   "id": "38877811",
   "metadata": {},
   "source": [
    "Сформировать персональное предложение абоненту. \n",
    "\n",
    "Задание можно решать в 2 этапа: \n",
    "<ol>\n",
    "    <li>Предсказание вероятности подключения услуги</li>\n",
    "    <li>Формирование индивидуальных предложений и максимизация выручки</li>\n",
    "</ol>\n",
    "\n",
    "Иными словами нужно построить алгоритм, который для каждой пары пользователь-услуга определит вероятность подключения услуги."
   ]
  },
  {
   "cell_type": "markdown",
   "id": "b3183bad",
   "metadata": {},
   "source": [
    "**Целевая переменная**\n",
    "\n",
    "Target - вероятность подключения услуги пользователем."
   ]
  },
  {
   "cell_type": "markdown",
   "id": "d2e08835",
   "metadata": {},
   "source": [
    "**Основная метрика**\n",
    "\n",
    "Скоринг будет осуществляться функцией *F1-score*, невзвешенным образом. Например, `sklearn.metrics.f1_score(average=’macro’)`."
   ]
  },
  {
   "cell_type": "markdown",
   "id": "e11b3edc",
   "metadata": {},
   "source": [
    "**Формат представления результата:**\n",
    "\n",
    "Работающая модель в формате pickle, которая принимает файл data_test.csv из корневой папки и записывает в эту же папку файл answers_test.csv. В этом файле должны находится 4 столбца: buy_time, id, vas_id и target. Target можно записать как вероятность подключения услуги.\n"
   ]
  },
  {
   "cell_type": "markdown",
   "id": "291ef47e",
   "metadata": {},
   "source": [
    "## Описание данных <a class='anchor' id='data_description'>"
   ]
  },
  {
   "cell_type": "markdown",
   "id": "210fed08",
   "metadata": {},
   "source": [
    "В качестве исходных данных вам будет доступна информация об отклике абонентов на предложение подключения одной из услуг. Каждому пользователю может быть сделано несколько предложений в разное время, каждое из которых он может или принять, или отклонить.\n",
    "\n",
    "Отдельным набором данных будет являться нормализованный анонимизированный набор признаков, характеризующий профиль потребления абонента. Эти данные привязаны к определенному времени, поскольку профиль абонента может меняться с течением времени."
   ]
  },
  {
   "cell_type": "markdown",
   "id": "04fe2b70",
   "metadata": {},
   "source": [
    "**Входные данные:**\n",
    "\n",
    "1. data_train.csv - датасет откликов абонентов на те или иные продукты\n",
    "\n",
    "    * id - идентификатор абонента,\n",
    "    * vas_id - подключаемая услуга,\n",
    "    * buy_time - время покупки, представлено в формате timestamp,\n",
    "    * target - целевая переменная, где 1 - подключение услуги, 0 - абонент не подключил услугу.\n",
    "\n",
    "\n",
    "2. features.csv - \n",
    "   * id - идентификатор абонента,\n",
    "   * feature_list - признаки абонента."
   ]
  },
  {
   "cell_type": "markdown",
   "id": "180efdba",
   "metadata": {},
   "source": [
    "**Тестовые данные:**\n",
    "\n",
    "data_test.csv - датасет откликов абонентов на те или иные продукты\n",
    "\n",
    "* id - идентификатор абонента,\n",
    "* vas_id - подключаемая услуга,\n",
    "* buy_time - время покупки, представлено в формате timestamp."
   ]
  },
  {
   "cell_type": "markdown",
   "id": "3621db8b",
   "metadata": {},
   "source": [
    "Данные train и test разбиты по периодам – на train доступно 4 месяцев, а на test отложен последующий месяц. "
   ]
  },
  {
   "cell_type": "markdown",
   "id": "80ddfd19",
   "metadata": {},
   "source": [
    "---\n",
    "## Загрузка библиотек, скриптов и PATHS <a class='anchor' id='load_help'>"
   ]
  },
  {
   "cell_type": "code",
   "execution_count": 1,
   "id": "6d5320f1",
   "metadata": {},
   "outputs": [],
   "source": [
    "import pandas as pd\n",
    "import numpy as np\n",
    "import dask.dataframe as dd\n",
    "import time\n",
    "import pickle\n",
    "from datetime import datetime\n",
    "import matplotlib.pyplot as plt\n",
    "import seaborn as sns\n",
    "from sklearn.model_selection import train_test_split\n",
    "from sklearn.metrics import precision_recall_curve, roc_auc_score, confusion_matrix, classification_report, f1_score\n",
    "from sklearn.pipeline import FeatureUnion, make_pipeline\n",
    "from sklearn.preprocessing import StandardScaler, OneHotEncoder\n",
    "\n",
    "from sklearn.linear_model import LogisticRegression\n",
    "from sklearn.ensemble import GradientBoostingClassifier\n",
    "import catboost as catb\n",
    "\n",
    "import warnings\n",
    "warnings.filterwarnings('ignore')"
   ]
  },
  {
   "cell_type": "code",
   "execution_count": 2,
   "id": "19398653",
   "metadata": {},
   "outputs": [],
   "source": [
    "RAW_FEATURES_DATASET_PATH = '../data/features.csv'\n",
    "RAW_TRAIN_DATASET_PATH = '../data/data_train.csv'\n",
    "RAW_TEST_DATASET_PATH = '../data/data_test.csv'\n",
    "PREPARED_TRAIN_DATASET_PATH = 'prepared_data/prepared_train_data.csv'\n",
    "PREPARED_TEST_DATASET_PATH = 'prepared_data/prepared_test_data.csv'\n",
    "MODEL_PATH = 'models/ctb_model.pickle'\n",
    "TEST_PREDICTIONS_PATH = 'predictions/answers_test.csv'"
   ]
  },
  {
   "cell_type": "code",
   "execution_count": 3,
   "id": "72443658",
   "metadata": {},
   "outputs": [],
   "source": [
    "def get_classification_report(y_train_true, y_train_pred, y_test_true, y_test_pred):\n",
    "    print('TRAIN\\n\\n' + classification_report(y_train_true, y_train_pred))\n",
    "    print('TEST\\n\\n' + classification_report(y_test_true, y_test_pred))"
   ]
  },
  {
   "cell_type": "code",
   "execution_count": 4,
   "id": "391c9cc7",
   "metadata": {},
   "outputs": [],
   "source": [
    "sigmoid = lambda x: 1 / (1 + np.exp(-x))"
   ]
  },
  {
   "cell_type": "markdown",
   "id": "68ce6fd5",
   "metadata": {},
   "source": [
    "## Загрузка данных <a class='anchor' id='load_data'>"
   ]
  },
  {
   "cell_type": "markdown",
   "id": "6b9b2944",
   "metadata": {},
   "source": [
    "**Train data**"
   ]
  },
  {
   "cell_type": "code",
   "execution_count": 5,
   "id": "a7562c9c",
   "metadata": {
    "scrolled": false
   },
   "outputs": [
    {
     "data": {
      "text/html": [
       "<div>\n",
       "<style scoped>\n",
       "    .dataframe tbody tr th:only-of-type {\n",
       "        vertical-align: middle;\n",
       "    }\n",
       "\n",
       "    .dataframe tbody tr th {\n",
       "        vertical-align: top;\n",
       "    }\n",
       "\n",
       "    .dataframe thead th {\n",
       "        text-align: right;\n",
       "    }\n",
       "</style>\n",
       "<table border=\"1\" class=\"dataframe\">\n",
       "  <thead>\n",
       "    <tr style=\"text-align: right;\">\n",
       "      <th></th>\n",
       "      <th>Unnamed: 0</th>\n",
       "      <th>id</th>\n",
       "      <th>vas_id</th>\n",
       "      <th>buy_time</th>\n",
       "      <th>target</th>\n",
       "    </tr>\n",
       "  </thead>\n",
       "  <tbody>\n",
       "    <tr>\n",
       "      <th>0</th>\n",
       "      <td>0</td>\n",
       "      <td>540968</td>\n",
       "      <td>8.0</td>\n",
       "      <td>1537131600</td>\n",
       "      <td>0.0</td>\n",
       "    </tr>\n",
       "    <tr>\n",
       "      <th>1</th>\n",
       "      <td>1</td>\n",
       "      <td>1454121</td>\n",
       "      <td>4.0</td>\n",
       "      <td>1531688400</td>\n",
       "      <td>0.0</td>\n",
       "    </tr>\n",
       "    <tr>\n",
       "      <th>2</th>\n",
       "      <td>2</td>\n",
       "      <td>2458816</td>\n",
       "      <td>1.0</td>\n",
       "      <td>1534107600</td>\n",
       "      <td>0.0</td>\n",
       "    </tr>\n",
       "    <tr>\n",
       "      <th>3</th>\n",
       "      <td>3</td>\n",
       "      <td>3535012</td>\n",
       "      <td>5.0</td>\n",
       "      <td>1535922000</td>\n",
       "      <td>0.0</td>\n",
       "    </tr>\n",
       "    <tr>\n",
       "      <th>4</th>\n",
       "      <td>4</td>\n",
       "      <td>1693214</td>\n",
       "      <td>1.0</td>\n",
       "      <td>1535922000</td>\n",
       "      <td>0.0</td>\n",
       "    </tr>\n",
       "  </tbody>\n",
       "</table>\n",
       "</div>"
      ],
      "text/plain": [
       "   Unnamed: 0       id  vas_id    buy_time  target\n",
       "0           0   540968     8.0  1537131600     0.0\n",
       "1           1  1454121     4.0  1531688400     0.0\n",
       "2           2  2458816     1.0  1534107600     0.0\n",
       "3           3  3535012     5.0  1535922000     0.0\n",
       "4           4  1693214     1.0  1535922000     0.0"
      ]
     },
     "execution_count": 5,
     "metadata": {},
     "output_type": "execute_result"
    }
   ],
   "source": [
    "train_df = pd.read_csv(RAW_TRAIN_DATASET_PATH)\n",
    "train_df.head()"
   ]
  },
  {
   "cell_type": "markdown",
   "id": "f7b95a1e",
   "metadata": {},
   "source": [
    "Видно, что  есть столбец \"Unnamed: 0\", который является дублирующим индексом. Поэтому сразу от него избавимся."
   ]
  },
  {
   "cell_type": "code",
   "execution_count": 6,
   "id": "c0dabf5a",
   "metadata": {},
   "outputs": [],
   "source": [
    "train_df = train_df.drop('Unnamed: 0', axis=1)"
   ]
  },
  {
   "cell_type": "markdown",
   "id": "48d118d4",
   "metadata": {},
   "source": [
    "**Features**"
   ]
  },
  {
   "cell_type": "code",
   "execution_count": 7,
   "id": "52f179bd",
   "metadata": {
    "scrolled": true
   },
   "outputs": [
    {
     "data": {
      "text/html": [
       "<div>\n",
       "<style scoped>\n",
       "    .dataframe tbody tr th:only-of-type {\n",
       "        vertical-align: middle;\n",
       "    }\n",
       "\n",
       "    .dataframe tbody tr th {\n",
       "        vertical-align: top;\n",
       "    }\n",
       "\n",
       "    .dataframe thead th {\n",
       "        text-align: right;\n",
       "    }\n",
       "</style>\n",
       "<table border=\"1\" class=\"dataframe\">\n",
       "  <thead>\n",
       "    <tr style=\"text-align: right;\">\n",
       "      <th></th>\n",
       "      <th>Unnamed: 0</th>\n",
       "      <th>id</th>\n",
       "      <th>buy_time</th>\n",
       "      <th>0</th>\n",
       "      <th>1</th>\n",
       "      <th>2</th>\n",
       "      <th>3</th>\n",
       "      <th>4</th>\n",
       "      <th>5</th>\n",
       "      <th>6</th>\n",
       "      <th>...</th>\n",
       "      <th>243</th>\n",
       "      <th>244</th>\n",
       "      <th>245</th>\n",
       "      <th>246</th>\n",
       "      <th>247</th>\n",
       "      <th>248</th>\n",
       "      <th>249</th>\n",
       "      <th>250</th>\n",
       "      <th>251</th>\n",
       "      <th>252</th>\n",
       "    </tr>\n",
       "  </thead>\n",
       "  <tbody>\n",
       "    <tr>\n",
       "      <th>0</th>\n",
       "      <td>0</td>\n",
       "      <td>2013026</td>\n",
       "      <td>1531688400</td>\n",
       "      <td>18.910029</td>\n",
       "      <td>46.980888</td>\n",
       "      <td>4.969214</td>\n",
       "      <td>-1.386798</td>\n",
       "      <td>3.791754</td>\n",
       "      <td>-14.01179</td>\n",
       "      <td>-16.08618</td>\n",
       "      <td>...</td>\n",
       "      <td>-977.373846</td>\n",
       "      <td>-613.770792</td>\n",
       "      <td>-25.996269</td>\n",
       "      <td>-37.630448</td>\n",
       "      <td>-301.747724</td>\n",
       "      <td>-25.832889</td>\n",
       "      <td>-0.694428</td>\n",
       "      <td>-12.175933</td>\n",
       "      <td>-0.45614</td>\n",
       "      <td>0.0</td>\n",
       "    </tr>\n",
       "    <tr>\n",
       "      <th>1</th>\n",
       "      <td>1</td>\n",
       "      <td>2014722</td>\n",
       "      <td>1539550800</td>\n",
       "      <td>36.690029</td>\n",
       "      <td>152.400888</td>\n",
       "      <td>448.069214</td>\n",
       "      <td>563.833202</td>\n",
       "      <td>463.841754</td>\n",
       "      <td>568.99821</td>\n",
       "      <td>-16.08618</td>\n",
       "      <td>...</td>\n",
       "      <td>-891.373846</td>\n",
       "      <td>-544.770792</td>\n",
       "      <td>-20.996269</td>\n",
       "      <td>48.369552</td>\n",
       "      <td>80.252276</td>\n",
       "      <td>-13.832889</td>\n",
       "      <td>-0.694428</td>\n",
       "      <td>-1.175933</td>\n",
       "      <td>-0.45614</td>\n",
       "      <td>0.0</td>\n",
       "    </tr>\n",
       "    <tr>\n",
       "      <th>2</th>\n",
       "      <td>2</td>\n",
       "      <td>2015199</td>\n",
       "      <td>1545598800</td>\n",
       "      <td>-67.019971</td>\n",
       "      <td>157.050888</td>\n",
       "      <td>-63.180786</td>\n",
       "      <td>178.103202</td>\n",
       "      <td>-68.598246</td>\n",
       "      <td>156.99821</td>\n",
       "      <td>3.51382</td>\n",
       "      <td>...</td>\n",
       "      <td>-977.373846</td>\n",
       "      <td>-613.770792</td>\n",
       "      <td>-12.996269</td>\n",
       "      <td>-37.630448</td>\n",
       "      <td>10829.252276</td>\n",
       "      <td>-25.832889</td>\n",
       "      <td>-0.694428</td>\n",
       "      <td>-12.175933</td>\n",
       "      <td>-0.45614</td>\n",
       "      <td>0.0</td>\n",
       "    </tr>\n",
       "    <tr>\n",
       "      <th>3</th>\n",
       "      <td>3</td>\n",
       "      <td>2021765</td>\n",
       "      <td>1534107600</td>\n",
       "      <td>7.010029</td>\n",
       "      <td>150.200888</td>\n",
       "      <td>-6.930786</td>\n",
       "      <td>216.213202</td>\n",
       "      <td>76.621754</td>\n",
       "      <td>351.84821</td>\n",
       "      <td>-16.08618</td>\n",
       "      <td>...</td>\n",
       "      <td>-973.373846</td>\n",
       "      <td>-613.770792</td>\n",
       "      <td>-23.996269</td>\n",
       "      <td>-37.630448</td>\n",
       "      <td>-205.747724</td>\n",
       "      <td>-24.832889</td>\n",
       "      <td>-0.694428</td>\n",
       "      <td>-11.175933</td>\n",
       "      <td>-0.45614</td>\n",
       "      <td>1.0</td>\n",
       "    </tr>\n",
       "    <tr>\n",
       "      <th>4</th>\n",
       "      <td>4</td>\n",
       "      <td>2027465</td>\n",
       "      <td>1533502800</td>\n",
       "      <td>-90.439971</td>\n",
       "      <td>134.220888</td>\n",
       "      <td>-104.380786</td>\n",
       "      <td>153.643202</td>\n",
       "      <td>-109.798246</td>\n",
       "      <td>132.53821</td>\n",
       "      <td>-16.08618</td>\n",
       "      <td>...</td>\n",
       "      <td>1643.626154</td>\n",
       "      <td>2007.229208</td>\n",
       "      <td>206.003731</td>\n",
       "      <td>-21.630448</td>\n",
       "      <td>6667.252276</td>\n",
       "      <td>92.167111</td>\n",
       "      <td>-0.694428</td>\n",
       "      <td>49.824067</td>\n",
       "      <td>47.54386</td>\n",
       "      <td>0.0</td>\n",
       "    </tr>\n",
       "  </tbody>\n",
       "</table>\n",
       "<p>5 rows × 256 columns</p>\n",
       "</div>"
      ],
      "text/plain": [
       "   Unnamed: 0       id    buy_time          0           1           2  \\\n",
       "0           0  2013026  1531688400  18.910029   46.980888    4.969214   \n",
       "1           1  2014722  1539550800  36.690029  152.400888  448.069214   \n",
       "2           2  2015199  1545598800 -67.019971  157.050888  -63.180786   \n",
       "3           3  2021765  1534107600   7.010029  150.200888   -6.930786   \n",
       "4           4  2027465  1533502800 -90.439971  134.220888 -104.380786   \n",
       "\n",
       "            3           4          5         6  ...          243          244  \\\n",
       "0   -1.386798    3.791754  -14.01179 -16.08618  ...  -977.373846  -613.770792   \n",
       "1  563.833202  463.841754  568.99821 -16.08618  ...  -891.373846  -544.770792   \n",
       "2  178.103202  -68.598246  156.99821   3.51382  ...  -977.373846  -613.770792   \n",
       "3  216.213202   76.621754  351.84821 -16.08618  ...  -973.373846  -613.770792   \n",
       "4  153.643202 -109.798246  132.53821 -16.08618  ...  1643.626154  2007.229208   \n",
       "\n",
       "          245        246           247        248       249        250  \\\n",
       "0  -25.996269 -37.630448   -301.747724 -25.832889 -0.694428 -12.175933   \n",
       "1  -20.996269  48.369552     80.252276 -13.832889 -0.694428  -1.175933   \n",
       "2  -12.996269 -37.630448  10829.252276 -25.832889 -0.694428 -12.175933   \n",
       "3  -23.996269 -37.630448   -205.747724 -24.832889 -0.694428 -11.175933   \n",
       "4  206.003731 -21.630448   6667.252276  92.167111 -0.694428  49.824067   \n",
       "\n",
       "        251  252  \n",
       "0  -0.45614  0.0  \n",
       "1  -0.45614  0.0  \n",
       "2  -0.45614  0.0  \n",
       "3  -0.45614  1.0  \n",
       "4  47.54386  0.0  \n",
       "\n",
       "[5 rows x 256 columns]"
      ]
     },
     "execution_count": 7,
     "metadata": {},
     "output_type": "execute_result"
    }
   ],
   "source": [
    "features_df = dd.read_csv(RAW_FEATURES_DATASET_PATH, delimiter='\\t')\n",
    "features_df.head()"
   ]
  },
  {
   "cell_type": "code",
   "execution_count": 8,
   "id": "21fec575",
   "metadata": {},
   "outputs": [],
   "source": [
    "features_df = features_df.drop('Unnamed: 0', axis=1)"
   ]
  },
  {
   "cell_type": "markdown",
   "id": "f22aecac",
   "metadata": {},
   "source": [
    "**Train with features**"
   ]
  },
  {
   "cell_type": "code",
   "execution_count": 9,
   "id": "0d6d84d3",
   "metadata": {},
   "outputs": [],
   "source": [
    "tr = train_df.drop('buy_time', axis=1)\n",
    "ft = features_df.drop('buy_time', axis=1)"
   ]
  },
  {
   "cell_type": "markdown",
   "id": "eef48d9e",
   "metadata": {},
   "source": [
    "Из-за использования join у нас сгенерировались новые объекты в тренировочной выборке."
   ]
  },
  {
   "cell_type": "code",
   "execution_count": 10,
   "id": "0a656ac0",
   "metadata": {
    "scrolled": false
   },
   "outputs": [],
   "source": [
    "ft = ft.compute()\n",
    "train_with_feats_df = tr.join(ft.set_index('id'), on='id')"
   ]
  },
  {
   "cell_type": "code",
   "execution_count": 11,
   "id": "f1083eab",
   "metadata": {},
   "outputs": [
    {
     "data": {
      "text/html": [
       "<div>\n",
       "<style scoped>\n",
       "    .dataframe tbody tr th:only-of-type {\n",
       "        vertical-align: middle;\n",
       "    }\n",
       "\n",
       "    .dataframe tbody tr th {\n",
       "        vertical-align: top;\n",
       "    }\n",
       "\n",
       "    .dataframe thead th {\n",
       "        text-align: right;\n",
       "    }\n",
       "</style>\n",
       "<table border=\"1\" class=\"dataframe\">\n",
       "  <thead>\n",
       "    <tr style=\"text-align: right;\">\n",
       "      <th></th>\n",
       "      <th>id</th>\n",
       "      <th>vas_id</th>\n",
       "      <th>target</th>\n",
       "      <th>0</th>\n",
       "      <th>1</th>\n",
       "      <th>2</th>\n",
       "      <th>3</th>\n",
       "      <th>4</th>\n",
       "      <th>5</th>\n",
       "      <th>6</th>\n",
       "      <th>...</th>\n",
       "      <th>243</th>\n",
       "      <th>244</th>\n",
       "      <th>245</th>\n",
       "      <th>246</th>\n",
       "      <th>247</th>\n",
       "      <th>248</th>\n",
       "      <th>249</th>\n",
       "      <th>250</th>\n",
       "      <th>251</th>\n",
       "      <th>252</th>\n",
       "    </tr>\n",
       "  </thead>\n",
       "  <tbody>\n",
       "    <tr>\n",
       "      <th>0</th>\n",
       "      <td>540968</td>\n",
       "      <td>8.0</td>\n",
       "      <td>0.0</td>\n",
       "      <td>-31.559971</td>\n",
       "      <td>327.360888</td>\n",
       "      <td>-45.500786</td>\n",
       "      <td>274.753202</td>\n",
       "      <td>-50.918246</td>\n",
       "      <td>253.64821</td>\n",
       "      <td>49.15382</td>\n",
       "      <td>...</td>\n",
       "      <td>-845.373846</td>\n",
       "      <td>-613.770792</td>\n",
       "      <td>-20.996269</td>\n",
       "      <td>-37.630448</td>\n",
       "      <td>-28.747724</td>\n",
       "      <td>4.167111</td>\n",
       "      <td>7.305572</td>\n",
       "      <td>-12.175933</td>\n",
       "      <td>21.54386</td>\n",
       "      <td>0.0</td>\n",
       "    </tr>\n",
       "    <tr>\n",
       "      <th>1</th>\n",
       "      <td>1454121</td>\n",
       "      <td>4.0</td>\n",
       "      <td>0.0</td>\n",
       "      <td>547.270029</td>\n",
       "      <td>238.430888</td>\n",
       "      <td>533.329214</td>\n",
       "      <td>274.803202</td>\n",
       "      <td>527.911754</td>\n",
       "      <td>253.69821</td>\n",
       "      <td>-16.08618</td>\n",
       "      <td>...</td>\n",
       "      <td>-972.373846</td>\n",
       "      <td>-613.770792</td>\n",
       "      <td>-25.996269</td>\n",
       "      <td>-19.630448</td>\n",
       "      <td>-278.747724</td>\n",
       "      <td>-24.832889</td>\n",
       "      <td>-0.694428</td>\n",
       "      <td>-11.175933</td>\n",
       "      <td>-0.45614</td>\n",
       "      <td>0.0</td>\n",
       "    </tr>\n",
       "    <tr>\n",
       "      <th>2</th>\n",
       "      <td>2458816</td>\n",
       "      <td>1.0</td>\n",
       "      <td>0.0</td>\n",
       "      <td>-92.139971</td>\n",
       "      <td>-95.469112</td>\n",
       "      <td>-106.080786</td>\n",
       "      <td>-139.596798</td>\n",
       "      <td>-111.498246</td>\n",
       "      <td>-142.90179</td>\n",
       "      <td>-16.08618</td>\n",
       "      <td>...</td>\n",
       "      <td>-977.373846</td>\n",
       "      <td>-613.770792</td>\n",
       "      <td>-25.996269</td>\n",
       "      <td>-37.630448</td>\n",
       "      <td>-304.747724</td>\n",
       "      <td>-25.832889</td>\n",
       "      <td>-0.694428</td>\n",
       "      <td>-12.175933</td>\n",
       "      <td>-0.45614</td>\n",
       "      <td>0.0</td>\n",
       "    </tr>\n",
       "    <tr>\n",
       "      <th>3</th>\n",
       "      <td>3535012</td>\n",
       "      <td>5.0</td>\n",
       "      <td>0.0</td>\n",
       "      <td>54.880029</td>\n",
       "      <td>12.970888</td>\n",
       "      <td>54.079214</td>\n",
       "      <td>-9.116798</td>\n",
       "      <td>48.661754</td>\n",
       "      <td>-30.22179</td>\n",
       "      <td>60.17382</td>\n",
       "      <td>...</td>\n",
       "      <td>-977.373846</td>\n",
       "      <td>-613.770792</td>\n",
       "      <td>-25.996269</td>\n",
       "      <td>-18.630448</td>\n",
       "      <td>-133.747724</td>\n",
       "      <td>-14.832889</td>\n",
       "      <td>-0.694428</td>\n",
       "      <td>-1.175933</td>\n",
       "      <td>-0.45614</td>\n",
       "      <td>0.0</td>\n",
       "    </tr>\n",
       "    <tr>\n",
       "      <th>4</th>\n",
       "      <td>1693214</td>\n",
       "      <td>1.0</td>\n",
       "      <td>0.0</td>\n",
       "      <td>45.160029</td>\n",
       "      <td>295.240888</td>\n",
       "      <td>64.679214</td>\n",
       "      <td>344.283202</td>\n",
       "      <td>59.261754</td>\n",
       "      <td>323.17821</td>\n",
       "      <td>-16.08618</td>\n",
       "      <td>...</td>\n",
       "      <td>-965.373846</td>\n",
       "      <td>-612.770792</td>\n",
       "      <td>-22.996269</td>\n",
       "      <td>-32.630448</td>\n",
       "      <td>-127.747724</td>\n",
       "      <td>-4.832889</td>\n",
       "      <td>-0.694428</td>\n",
       "      <td>-12.175933</td>\n",
       "      <td>-0.45614</td>\n",
       "      <td>0.0</td>\n",
       "    </tr>\n",
       "    <tr>\n",
       "      <th>...</th>\n",
       "      <td>...</td>\n",
       "      <td>...</td>\n",
       "      <td>...</td>\n",
       "      <td>...</td>\n",
       "      <td>...</td>\n",
       "      <td>...</td>\n",
       "      <td>...</td>\n",
       "      <td>...</td>\n",
       "      <td>...</td>\n",
       "      <td>...</td>\n",
       "      <td>...</td>\n",
       "      <td>...</td>\n",
       "      <td>...</td>\n",
       "      <td>...</td>\n",
       "      <td>...</td>\n",
       "      <td>...</td>\n",
       "      <td>...</td>\n",
       "      <td>...</td>\n",
       "      <td>...</td>\n",
       "      <td>...</td>\n",
       "      <td>...</td>\n",
       "    </tr>\n",
       "    <tr>\n",
       "      <th>831648</th>\n",
       "      <td>3812226</td>\n",
       "      <td>2.0</td>\n",
       "      <td>0.0</td>\n",
       "      <td>29.750029</td>\n",
       "      <td>6.200888</td>\n",
       "      <td>24.279214</td>\n",
       "      <td>-37.936798</td>\n",
       "      <td>18.861754</td>\n",
       "      <td>-59.04179</td>\n",
       "      <td>-16.08618</td>\n",
       "      <td>...</td>\n",
       "      <td>-977.373846</td>\n",
       "      <td>-613.770792</td>\n",
       "      <td>-25.996269</td>\n",
       "      <td>-37.630448</td>\n",
       "      <td>-306.747724</td>\n",
       "      <td>-25.832889</td>\n",
       "      <td>-0.694428</td>\n",
       "      <td>-12.175933</td>\n",
       "      <td>-0.45614</td>\n",
       "      <td>0.0</td>\n",
       "    </tr>\n",
       "    <tr>\n",
       "      <th>831649</th>\n",
       "      <td>2480469</td>\n",
       "      <td>2.0</td>\n",
       "      <td>0.0</td>\n",
       "      <td>-89.179971</td>\n",
       "      <td>-56.499112</td>\n",
       "      <td>-103.120786</td>\n",
       "      <td>-109.106798</td>\n",
       "      <td>-108.538246</td>\n",
       "      <td>-130.21179</td>\n",
       "      <td>-16.08618</td>\n",
       "      <td>...</td>\n",
       "      <td>-66.373846</td>\n",
       "      <td>-321.770792</td>\n",
       "      <td>-25.996269</td>\n",
       "      <td>62.369552</td>\n",
       "      <td>1167.252276</td>\n",
       "      <td>41.167111</td>\n",
       "      <td>-0.694428</td>\n",
       "      <td>54.824067</td>\n",
       "      <td>-0.45614</td>\n",
       "      <td>0.0</td>\n",
       "    </tr>\n",
       "    <tr>\n",
       "      <th>831650</th>\n",
       "      <td>158236</td>\n",
       "      <td>2.0</td>\n",
       "      <td>0.0</td>\n",
       "      <td>-96.799971</td>\n",
       "      <td>62.140888</td>\n",
       "      <td>-110.740786</td>\n",
       "      <td>9.533202</td>\n",
       "      <td>-116.158246</td>\n",
       "      <td>-11.57179</td>\n",
       "      <td>-16.08618</td>\n",
       "      <td>...</td>\n",
       "      <td>-683.373846</td>\n",
       "      <td>-470.770792</td>\n",
       "      <td>-25.996269</td>\n",
       "      <td>-37.630448</td>\n",
       "      <td>99.252276</td>\n",
       "      <td>178.167111</td>\n",
       "      <td>-0.694428</td>\n",
       "      <td>191.824067</td>\n",
       "      <td>-0.45614</td>\n",
       "      <td>0.0</td>\n",
       "    </tr>\n",
       "    <tr>\n",
       "      <th>831651</th>\n",
       "      <td>1825525</td>\n",
       "      <td>2.0</td>\n",
       "      <td>0.0</td>\n",
       "      <td>-96.799971</td>\n",
       "      <td>-81.919112</td>\n",
       "      <td>-110.740786</td>\n",
       "      <td>-128.596798</td>\n",
       "      <td>-116.158246</td>\n",
       "      <td>-76.82179</td>\n",
       "      <td>-16.08618</td>\n",
       "      <td>...</td>\n",
       "      <td>1018.626154</td>\n",
       "      <td>1367.229208</td>\n",
       "      <td>-24.996269</td>\n",
       "      <td>-35.630448</td>\n",
       "      <td>-237.747724</td>\n",
       "      <td>-21.832889</td>\n",
       "      <td>-0.694428</td>\n",
       "      <td>-8.175933</td>\n",
       "      <td>-0.45614</td>\n",
       "      <td>1.0</td>\n",
       "    </tr>\n",
       "    <tr>\n",
       "      <th>831652</th>\n",
       "      <td>3022610</td>\n",
       "      <td>2.0</td>\n",
       "      <td>0.0</td>\n",
       "      <td>-49.339971</td>\n",
       "      <td>-218.339112</td>\n",
       "      <td>73.139214</td>\n",
       "      <td>145.093202</td>\n",
       "      <td>67.721754</td>\n",
       "      <td>123.98821</td>\n",
       "      <td>-16.08618</td>\n",
       "      <td>...</td>\n",
       "      <td>-977.373846</td>\n",
       "      <td>-613.770792</td>\n",
       "      <td>-25.996269</td>\n",
       "      <td>-37.630448</td>\n",
       "      <td>-303.747724</td>\n",
       "      <td>-25.832889</td>\n",
       "      <td>-0.694428</td>\n",
       "      <td>-12.175933</td>\n",
       "      <td>-0.45614</td>\n",
       "      <td>0.0</td>\n",
       "    </tr>\n",
       "  </tbody>\n",
       "</table>\n",
       "<p>859990 rows × 256 columns</p>\n",
       "</div>"
      ],
      "text/plain": [
       "             id  vas_id  target           0           1           2  \\\n",
       "0        540968     8.0     0.0  -31.559971  327.360888  -45.500786   \n",
       "1       1454121     4.0     0.0  547.270029  238.430888  533.329214   \n",
       "2       2458816     1.0     0.0  -92.139971  -95.469112 -106.080786   \n",
       "3       3535012     5.0     0.0   54.880029   12.970888   54.079214   \n",
       "4       1693214     1.0     0.0   45.160029  295.240888   64.679214   \n",
       "...         ...     ...     ...         ...         ...         ...   \n",
       "831648  3812226     2.0     0.0   29.750029    6.200888   24.279214   \n",
       "831649  2480469     2.0     0.0  -89.179971  -56.499112 -103.120786   \n",
       "831650   158236     2.0     0.0  -96.799971   62.140888 -110.740786   \n",
       "831651  1825525     2.0     0.0  -96.799971  -81.919112 -110.740786   \n",
       "831652  3022610     2.0     0.0  -49.339971 -218.339112   73.139214   \n",
       "\n",
       "                 3           4          5         6  ...          243  \\\n",
       "0       274.753202  -50.918246  253.64821  49.15382  ...  -845.373846   \n",
       "1       274.803202  527.911754  253.69821 -16.08618  ...  -972.373846   \n",
       "2      -139.596798 -111.498246 -142.90179 -16.08618  ...  -977.373846   \n",
       "3        -9.116798   48.661754  -30.22179  60.17382  ...  -977.373846   \n",
       "4       344.283202   59.261754  323.17821 -16.08618  ...  -965.373846   \n",
       "...            ...         ...        ...       ...  ...          ...   \n",
       "831648  -37.936798   18.861754  -59.04179 -16.08618  ...  -977.373846   \n",
       "831649 -109.106798 -108.538246 -130.21179 -16.08618  ...   -66.373846   \n",
       "831650    9.533202 -116.158246  -11.57179 -16.08618  ...  -683.373846   \n",
       "831651 -128.596798 -116.158246  -76.82179 -16.08618  ...  1018.626154   \n",
       "831652  145.093202   67.721754  123.98821 -16.08618  ...  -977.373846   \n",
       "\n",
       "                244        245        246          247         248       249  \\\n",
       "0       -613.770792 -20.996269 -37.630448   -28.747724    4.167111  7.305572   \n",
       "1       -613.770792 -25.996269 -19.630448  -278.747724  -24.832889 -0.694428   \n",
       "2       -613.770792 -25.996269 -37.630448  -304.747724  -25.832889 -0.694428   \n",
       "3       -613.770792 -25.996269 -18.630448  -133.747724  -14.832889 -0.694428   \n",
       "4       -612.770792 -22.996269 -32.630448  -127.747724   -4.832889 -0.694428   \n",
       "...             ...        ...        ...          ...         ...       ...   \n",
       "831648  -613.770792 -25.996269 -37.630448  -306.747724  -25.832889 -0.694428   \n",
       "831649  -321.770792 -25.996269  62.369552  1167.252276   41.167111 -0.694428   \n",
       "831650  -470.770792 -25.996269 -37.630448    99.252276  178.167111 -0.694428   \n",
       "831651  1367.229208 -24.996269 -35.630448  -237.747724  -21.832889 -0.694428   \n",
       "831652  -613.770792 -25.996269 -37.630448  -303.747724  -25.832889 -0.694428   \n",
       "\n",
       "               250       251  252  \n",
       "0       -12.175933  21.54386  0.0  \n",
       "1       -11.175933  -0.45614  0.0  \n",
       "2       -12.175933  -0.45614  0.0  \n",
       "3        -1.175933  -0.45614  0.0  \n",
       "4       -12.175933  -0.45614  0.0  \n",
       "...            ...       ...  ...  \n",
       "831648  -12.175933  -0.45614  0.0  \n",
       "831649   54.824067  -0.45614  0.0  \n",
       "831650  191.824067  -0.45614  0.0  \n",
       "831651   -8.175933  -0.45614  1.0  \n",
       "831652  -12.175933  -0.45614  0.0  \n",
       "\n",
       "[859990 rows x 256 columns]"
      ]
     },
     "execution_count": 11,
     "metadata": {},
     "output_type": "execute_result"
    }
   ],
   "source": [
    "train_with_feats_df.drop_duplicates()"
   ]
  },
  {
   "cell_type": "code",
   "execution_count": 12,
   "id": "b999fb0f",
   "metadata": {
    "scrolled": true
   },
   "outputs": [
    {
     "data": {
      "text/html": [
       "<div>\n",
       "<style scoped>\n",
       "    .dataframe tbody tr th:only-of-type {\n",
       "        vertical-align: middle;\n",
       "    }\n",
       "\n",
       "    .dataframe tbody tr th {\n",
       "        vertical-align: top;\n",
       "    }\n",
       "\n",
       "    .dataframe thead th {\n",
       "        text-align: right;\n",
       "    }\n",
       "</style>\n",
       "<table border=\"1\" class=\"dataframe\">\n",
       "  <thead>\n",
       "    <tr style=\"text-align: right;\">\n",
       "      <th></th>\n",
       "      <th>id</th>\n",
       "      <th>vas_id</th>\n",
       "      <th>target</th>\n",
       "      <th>0</th>\n",
       "      <th>1</th>\n",
       "      <th>2</th>\n",
       "      <th>3</th>\n",
       "      <th>4</th>\n",
       "      <th>5</th>\n",
       "      <th>6</th>\n",
       "      <th>...</th>\n",
       "      <th>243</th>\n",
       "      <th>244</th>\n",
       "      <th>245</th>\n",
       "      <th>246</th>\n",
       "      <th>247</th>\n",
       "      <th>248</th>\n",
       "      <th>249</th>\n",
       "      <th>250</th>\n",
       "      <th>251</th>\n",
       "      <th>252</th>\n",
       "    </tr>\n",
       "  </thead>\n",
       "  <tbody>\n",
       "    <tr>\n",
       "      <th>0</th>\n",
       "      <td>540968</td>\n",
       "      <td>8.0</td>\n",
       "      <td>0.0</td>\n",
       "      <td>-31.559971</td>\n",
       "      <td>327.360888</td>\n",
       "      <td>-45.500786</td>\n",
       "      <td>274.753202</td>\n",
       "      <td>-50.918246</td>\n",
       "      <td>253.64821</td>\n",
       "      <td>49.15382</td>\n",
       "      <td>...</td>\n",
       "      <td>-845.373846</td>\n",
       "      <td>-613.770792</td>\n",
       "      <td>-20.996269</td>\n",
       "      <td>-37.630448</td>\n",
       "      <td>-28.747724</td>\n",
       "      <td>4.167111</td>\n",
       "      <td>7.305572</td>\n",
       "      <td>-12.175933</td>\n",
       "      <td>21.54386</td>\n",
       "      <td>0.0</td>\n",
       "    </tr>\n",
       "    <tr>\n",
       "      <th>1</th>\n",
       "      <td>1454121</td>\n",
       "      <td>4.0</td>\n",
       "      <td>0.0</td>\n",
       "      <td>547.270029</td>\n",
       "      <td>238.430888</td>\n",
       "      <td>533.329214</td>\n",
       "      <td>274.803202</td>\n",
       "      <td>527.911754</td>\n",
       "      <td>253.69821</td>\n",
       "      <td>-16.08618</td>\n",
       "      <td>...</td>\n",
       "      <td>-972.373846</td>\n",
       "      <td>-613.770792</td>\n",
       "      <td>-25.996269</td>\n",
       "      <td>-19.630448</td>\n",
       "      <td>-278.747724</td>\n",
       "      <td>-24.832889</td>\n",
       "      <td>-0.694428</td>\n",
       "      <td>-11.175933</td>\n",
       "      <td>-0.45614</td>\n",
       "      <td>0.0</td>\n",
       "    </tr>\n",
       "    <tr>\n",
       "      <th>2</th>\n",
       "      <td>2458816</td>\n",
       "      <td>1.0</td>\n",
       "      <td>0.0</td>\n",
       "      <td>-92.139971</td>\n",
       "      <td>-95.469112</td>\n",
       "      <td>-106.080786</td>\n",
       "      <td>-139.596798</td>\n",
       "      <td>-111.498246</td>\n",
       "      <td>-142.90179</td>\n",
       "      <td>-16.08618</td>\n",
       "      <td>...</td>\n",
       "      <td>-977.373846</td>\n",
       "      <td>-613.770792</td>\n",
       "      <td>-25.996269</td>\n",
       "      <td>-37.630448</td>\n",
       "      <td>-304.747724</td>\n",
       "      <td>-25.832889</td>\n",
       "      <td>-0.694428</td>\n",
       "      <td>-12.175933</td>\n",
       "      <td>-0.45614</td>\n",
       "      <td>0.0</td>\n",
       "    </tr>\n",
       "    <tr>\n",
       "      <th>3</th>\n",
       "      <td>3535012</td>\n",
       "      <td>5.0</td>\n",
       "      <td>0.0</td>\n",
       "      <td>54.880029</td>\n",
       "      <td>12.970888</td>\n",
       "      <td>54.079214</td>\n",
       "      <td>-9.116798</td>\n",
       "      <td>48.661754</td>\n",
       "      <td>-30.22179</td>\n",
       "      <td>60.17382</td>\n",
       "      <td>...</td>\n",
       "      <td>-977.373846</td>\n",
       "      <td>-613.770792</td>\n",
       "      <td>-25.996269</td>\n",
       "      <td>-18.630448</td>\n",
       "      <td>-133.747724</td>\n",
       "      <td>-14.832889</td>\n",
       "      <td>-0.694428</td>\n",
       "      <td>-1.175933</td>\n",
       "      <td>-0.45614</td>\n",
       "      <td>0.0</td>\n",
       "    </tr>\n",
       "    <tr>\n",
       "      <th>4</th>\n",
       "      <td>1693214</td>\n",
       "      <td>1.0</td>\n",
       "      <td>0.0</td>\n",
       "      <td>45.160029</td>\n",
       "      <td>295.240888</td>\n",
       "      <td>64.679214</td>\n",
       "      <td>344.283202</td>\n",
       "      <td>59.261754</td>\n",
       "      <td>323.17821</td>\n",
       "      <td>-16.08618</td>\n",
       "      <td>...</td>\n",
       "      <td>-965.373846</td>\n",
       "      <td>-612.770792</td>\n",
       "      <td>-22.996269</td>\n",
       "      <td>-32.630448</td>\n",
       "      <td>-127.747724</td>\n",
       "      <td>-4.832889</td>\n",
       "      <td>-0.694428</td>\n",
       "      <td>-12.175933</td>\n",
       "      <td>-0.45614</td>\n",
       "      <td>0.0</td>\n",
       "    </tr>\n",
       "  </tbody>\n",
       "</table>\n",
       "<p>5 rows × 256 columns</p>\n",
       "</div>"
      ],
      "text/plain": [
       "        id  vas_id  target           0           1           2           3  \\\n",
       "0   540968     8.0     0.0  -31.559971  327.360888  -45.500786  274.753202   \n",
       "1  1454121     4.0     0.0  547.270029  238.430888  533.329214  274.803202   \n",
       "2  2458816     1.0     0.0  -92.139971  -95.469112 -106.080786 -139.596798   \n",
       "3  3535012     5.0     0.0   54.880029   12.970888   54.079214   -9.116798   \n",
       "4  1693214     1.0     0.0   45.160029  295.240888   64.679214  344.283202   \n",
       "\n",
       "            4          5         6  ...         243         244        245  \\\n",
       "0  -50.918246  253.64821  49.15382  ... -845.373846 -613.770792 -20.996269   \n",
       "1  527.911754  253.69821 -16.08618  ... -972.373846 -613.770792 -25.996269   \n",
       "2 -111.498246 -142.90179 -16.08618  ... -977.373846 -613.770792 -25.996269   \n",
       "3   48.661754  -30.22179  60.17382  ... -977.373846 -613.770792 -25.996269   \n",
       "4   59.261754  323.17821 -16.08618  ... -965.373846 -612.770792 -22.996269   \n",
       "\n",
       "         246         247        248       249        250       251  252  \n",
       "0 -37.630448  -28.747724   4.167111  7.305572 -12.175933  21.54386  0.0  \n",
       "1 -19.630448 -278.747724 -24.832889 -0.694428 -11.175933  -0.45614  0.0  \n",
       "2 -37.630448 -304.747724 -25.832889 -0.694428 -12.175933  -0.45614  0.0  \n",
       "3 -18.630448 -133.747724 -14.832889 -0.694428  -1.175933  -0.45614  0.0  \n",
       "4 -32.630448 -127.747724  -4.832889 -0.694428 -12.175933  -0.45614  0.0  \n",
       "\n",
       "[5 rows x 256 columns]"
      ]
     },
     "execution_count": 12,
     "metadata": {},
     "output_type": "execute_result"
    }
   ],
   "source": [
    "train_with_feats_df.head()"
   ]
  },
  {
   "cell_type": "code",
   "execution_count": 13,
   "id": "857a2d15",
   "metadata": {},
   "outputs": [],
   "source": [
    "# save\n",
    "# train_with_feats_df.to_csv(PREPARED_TRAIN_DATASET_PATH, index=False)"
   ]
  },
  {
   "cell_type": "markdown",
   "id": "4ecd9951",
   "metadata": {},
   "source": [
    "## 1. Анализ данных <a class='anchor' id='eda'>\n",
    "\n",
    "\n",
    "- Обзор датасетов\n",
    "- Распределение целевой переменой в тренировочном датасете\n",
    "- Анализ временного ряда"
   ]
  },
  {
   "cell_type": "markdown",
   "id": "1eee7767",
   "metadata": {},
   "source": [
    "### Обзор датасетов"
   ]
  },
  {
   "cell_type": "markdown",
   "id": "bc238a22",
   "metadata": {},
   "source": [
    "**Train:**"
   ]
  },
  {
   "cell_type": "code",
   "execution_count": 14,
   "id": "ea7bb9fd",
   "metadata": {},
   "outputs": [
    {
     "data": {
      "text/html": [
       "<div>\n",
       "<style scoped>\n",
       "    .dataframe tbody tr th:only-of-type {\n",
       "        vertical-align: middle;\n",
       "    }\n",
       "\n",
       "    .dataframe tbody tr th {\n",
       "        vertical-align: top;\n",
       "    }\n",
       "\n",
       "    .dataframe thead th {\n",
       "        text-align: right;\n",
       "    }\n",
       "</style>\n",
       "<table border=\"1\" class=\"dataframe\">\n",
       "  <thead>\n",
       "    <tr style=\"text-align: right;\">\n",
       "      <th></th>\n",
       "      <th>id</th>\n",
       "      <th>vas_id</th>\n",
       "      <th>buy_time</th>\n",
       "      <th>target</th>\n",
       "    </tr>\n",
       "  </thead>\n",
       "  <tbody>\n",
       "    <tr>\n",
       "      <th>0</th>\n",
       "      <td>540968</td>\n",
       "      <td>8.0</td>\n",
       "      <td>1537131600</td>\n",
       "      <td>0.0</td>\n",
       "    </tr>\n",
       "    <tr>\n",
       "      <th>1</th>\n",
       "      <td>1454121</td>\n",
       "      <td>4.0</td>\n",
       "      <td>1531688400</td>\n",
       "      <td>0.0</td>\n",
       "    </tr>\n",
       "    <tr>\n",
       "      <th>2</th>\n",
       "      <td>2458816</td>\n",
       "      <td>1.0</td>\n",
       "      <td>1534107600</td>\n",
       "      <td>0.0</td>\n",
       "    </tr>\n",
       "    <tr>\n",
       "      <th>3</th>\n",
       "      <td>3535012</td>\n",
       "      <td>5.0</td>\n",
       "      <td>1535922000</td>\n",
       "      <td>0.0</td>\n",
       "    </tr>\n",
       "    <tr>\n",
       "      <th>4</th>\n",
       "      <td>1693214</td>\n",
       "      <td>1.0</td>\n",
       "      <td>1535922000</td>\n",
       "      <td>0.0</td>\n",
       "    </tr>\n",
       "  </tbody>\n",
       "</table>\n",
       "</div>"
      ],
      "text/plain": [
       "        id  vas_id    buy_time  target\n",
       "0   540968     8.0  1537131600     0.0\n",
       "1  1454121     4.0  1531688400     0.0\n",
       "2  2458816     1.0  1534107600     0.0\n",
       "3  3535012     5.0  1535922000     0.0\n",
       "4  1693214     1.0  1535922000     0.0"
      ]
     },
     "execution_count": 14,
     "metadata": {},
     "output_type": "execute_result"
    }
   ],
   "source": [
    "train_df.head()"
   ]
  },
  {
   "cell_type": "code",
   "execution_count": 15,
   "id": "b8583301",
   "metadata": {
    "scrolled": true
   },
   "outputs": [
    {
     "data": {
      "text/plain": [
       "(831653, 4)"
      ]
     },
     "execution_count": 15,
     "metadata": {},
     "output_type": "execute_result"
    }
   ],
   "source": [
    "train_df.shape"
   ]
  },
  {
   "cell_type": "code",
   "execution_count": 16,
   "id": "eb8f1613",
   "metadata": {
    "scrolled": true
   },
   "outputs": [
    {
     "name": "stdout",
     "output_type": "stream",
     "text": [
      "<class 'pandas.core.frame.DataFrame'>\n",
      "RangeIndex: 831653 entries, 0 to 831652\n",
      "Data columns (total 4 columns):\n",
      " #   Column    Non-Null Count   Dtype  \n",
      "---  ------    --------------   -----  \n",
      " 0   id        831653 non-null  int64  \n",
      " 1   vas_id    831653 non-null  float64\n",
      " 2   buy_time  831653 non-null  int64  \n",
      " 3   target    831653 non-null  float64\n",
      "dtypes: float64(2), int64(2)\n",
      "memory usage: 25.4 MB\n"
     ]
    }
   ],
   "source": [
    "train_df.info()"
   ]
  },
  {
   "cell_type": "code",
   "execution_count": 17,
   "id": "30799405",
   "metadata": {
    "scrolled": true
   },
   "outputs": [
    {
     "data": {
      "text/plain": [
       "[1.0, 2.0, 4.0, 5.0, 6.0, 7.0, 8.0, 9.0]"
      ]
     },
     "execution_count": 17,
     "metadata": {},
     "output_type": "execute_result"
    }
   ],
   "source": [
    "sorted(train_df['vas_id'].unique())"
   ]
  },
  {
   "cell_type": "code",
   "execution_count": 18,
   "id": "13cdf839",
   "metadata": {},
   "outputs": [
    {
     "data": {
      "text/plain": [
       "806613"
      ]
     },
     "execution_count": 18,
     "metadata": {},
     "output_type": "execute_result"
    }
   ],
   "source": [
    "train_df['id'].nunique()"
   ]
  },
  {
   "cell_type": "markdown",
   "id": "5d23c264",
   "metadata": {},
   "source": [
    "**Features:**"
   ]
  },
  {
   "cell_type": "code",
   "execution_count": 19,
   "id": "a4d82444",
   "metadata": {},
   "outputs": [
    {
     "data": {
      "text/html": [
       "<div>\n",
       "<style scoped>\n",
       "    .dataframe tbody tr th:only-of-type {\n",
       "        vertical-align: middle;\n",
       "    }\n",
       "\n",
       "    .dataframe tbody tr th {\n",
       "        vertical-align: top;\n",
       "    }\n",
       "\n",
       "    .dataframe thead th {\n",
       "        text-align: right;\n",
       "    }\n",
       "</style>\n",
       "<table border=\"1\" class=\"dataframe\">\n",
       "  <thead>\n",
       "    <tr style=\"text-align: right;\">\n",
       "      <th></th>\n",
       "      <th>id</th>\n",
       "      <th>buy_time</th>\n",
       "      <th>0</th>\n",
       "      <th>1</th>\n",
       "      <th>2</th>\n",
       "      <th>3</th>\n",
       "      <th>4</th>\n",
       "      <th>5</th>\n",
       "      <th>6</th>\n",
       "      <th>7</th>\n",
       "      <th>...</th>\n",
       "      <th>243</th>\n",
       "      <th>244</th>\n",
       "      <th>245</th>\n",
       "      <th>246</th>\n",
       "      <th>247</th>\n",
       "      <th>248</th>\n",
       "      <th>249</th>\n",
       "      <th>250</th>\n",
       "      <th>251</th>\n",
       "      <th>252</th>\n",
       "    </tr>\n",
       "  </thead>\n",
       "  <tbody>\n",
       "    <tr>\n",
       "      <th>0</th>\n",
       "      <td>2013026</td>\n",
       "      <td>1531688400</td>\n",
       "      <td>18.910029</td>\n",
       "      <td>46.980888</td>\n",
       "      <td>4.969214</td>\n",
       "      <td>-1.386798</td>\n",
       "      <td>3.791754</td>\n",
       "      <td>-14.01179</td>\n",
       "      <td>-16.08618</td>\n",
       "      <td>-65.076097</td>\n",
       "      <td>...</td>\n",
       "      <td>-977.373846</td>\n",
       "      <td>-613.770792</td>\n",
       "      <td>-25.996269</td>\n",
       "      <td>-37.630448</td>\n",
       "      <td>-301.747724</td>\n",
       "      <td>-25.832889</td>\n",
       "      <td>-0.694428</td>\n",
       "      <td>-12.175933</td>\n",
       "      <td>-0.45614</td>\n",
       "      <td>0.0</td>\n",
       "    </tr>\n",
       "    <tr>\n",
       "      <th>1</th>\n",
       "      <td>2014722</td>\n",
       "      <td>1539550800</td>\n",
       "      <td>36.690029</td>\n",
       "      <td>152.400888</td>\n",
       "      <td>448.069214</td>\n",
       "      <td>563.833202</td>\n",
       "      <td>463.841754</td>\n",
       "      <td>568.99821</td>\n",
       "      <td>-16.08618</td>\n",
       "      <td>-53.216097</td>\n",
       "      <td>...</td>\n",
       "      <td>-891.373846</td>\n",
       "      <td>-544.770792</td>\n",
       "      <td>-20.996269</td>\n",
       "      <td>48.369552</td>\n",
       "      <td>80.252276</td>\n",
       "      <td>-13.832889</td>\n",
       "      <td>-0.694428</td>\n",
       "      <td>-1.175933</td>\n",
       "      <td>-0.45614</td>\n",
       "      <td>0.0</td>\n",
       "    </tr>\n",
       "    <tr>\n",
       "      <th>2</th>\n",
       "      <td>2015199</td>\n",
       "      <td>1545598800</td>\n",
       "      <td>-67.019971</td>\n",
       "      <td>157.050888</td>\n",
       "      <td>-63.180786</td>\n",
       "      <td>178.103202</td>\n",
       "      <td>-68.598246</td>\n",
       "      <td>156.99821</td>\n",
       "      <td>3.51382</td>\n",
       "      <td>25.183903</td>\n",
       "      <td>...</td>\n",
       "      <td>-977.373846</td>\n",
       "      <td>-613.770792</td>\n",
       "      <td>-12.996269</td>\n",
       "      <td>-37.630448</td>\n",
       "      <td>10829.252276</td>\n",
       "      <td>-25.832889</td>\n",
       "      <td>-0.694428</td>\n",
       "      <td>-12.175933</td>\n",
       "      <td>-0.45614</td>\n",
       "      <td>0.0</td>\n",
       "    </tr>\n",
       "    <tr>\n",
       "      <th>3</th>\n",
       "      <td>2021765</td>\n",
       "      <td>1534107600</td>\n",
       "      <td>7.010029</td>\n",
       "      <td>150.200888</td>\n",
       "      <td>-6.930786</td>\n",
       "      <td>216.213202</td>\n",
       "      <td>76.621754</td>\n",
       "      <td>351.84821</td>\n",
       "      <td>-16.08618</td>\n",
       "      <td>-65.076097</td>\n",
       "      <td>...</td>\n",
       "      <td>-973.373846</td>\n",
       "      <td>-613.770792</td>\n",
       "      <td>-23.996269</td>\n",
       "      <td>-37.630448</td>\n",
       "      <td>-205.747724</td>\n",
       "      <td>-24.832889</td>\n",
       "      <td>-0.694428</td>\n",
       "      <td>-11.175933</td>\n",
       "      <td>-0.45614</td>\n",
       "      <td>1.0</td>\n",
       "    </tr>\n",
       "    <tr>\n",
       "      <th>4</th>\n",
       "      <td>2027465</td>\n",
       "      <td>1533502800</td>\n",
       "      <td>-90.439971</td>\n",
       "      <td>134.220888</td>\n",
       "      <td>-104.380786</td>\n",
       "      <td>153.643202</td>\n",
       "      <td>-109.798246</td>\n",
       "      <td>132.53821</td>\n",
       "      <td>-16.08618</td>\n",
       "      <td>-65.076097</td>\n",
       "      <td>...</td>\n",
       "      <td>1643.626154</td>\n",
       "      <td>2007.229208</td>\n",
       "      <td>206.003731</td>\n",
       "      <td>-21.630448</td>\n",
       "      <td>6667.252276</td>\n",
       "      <td>92.167111</td>\n",
       "      <td>-0.694428</td>\n",
       "      <td>49.824067</td>\n",
       "      <td>47.54386</td>\n",
       "      <td>0.0</td>\n",
       "    </tr>\n",
       "  </tbody>\n",
       "</table>\n",
       "<p>5 rows × 255 columns</p>\n",
       "</div>"
      ],
      "text/plain": [
       "        id    buy_time          0           1           2           3  \\\n",
       "0  2013026  1531688400  18.910029   46.980888    4.969214   -1.386798   \n",
       "1  2014722  1539550800  36.690029  152.400888  448.069214  563.833202   \n",
       "2  2015199  1545598800 -67.019971  157.050888  -63.180786  178.103202   \n",
       "3  2021765  1534107600   7.010029  150.200888   -6.930786  216.213202   \n",
       "4  2027465  1533502800 -90.439971  134.220888 -104.380786  153.643202   \n",
       "\n",
       "            4          5         6          7  ...          243          244  \\\n",
       "0    3.791754  -14.01179 -16.08618 -65.076097  ...  -977.373846  -613.770792   \n",
       "1  463.841754  568.99821 -16.08618 -53.216097  ...  -891.373846  -544.770792   \n",
       "2  -68.598246  156.99821   3.51382  25.183903  ...  -977.373846  -613.770792   \n",
       "3   76.621754  351.84821 -16.08618 -65.076097  ...  -973.373846  -613.770792   \n",
       "4 -109.798246  132.53821 -16.08618 -65.076097  ...  1643.626154  2007.229208   \n",
       "\n",
       "          245        246           247        248       249        250  \\\n",
       "0  -25.996269 -37.630448   -301.747724 -25.832889 -0.694428 -12.175933   \n",
       "1  -20.996269  48.369552     80.252276 -13.832889 -0.694428  -1.175933   \n",
       "2  -12.996269 -37.630448  10829.252276 -25.832889 -0.694428 -12.175933   \n",
       "3  -23.996269 -37.630448   -205.747724 -24.832889 -0.694428 -11.175933   \n",
       "4  206.003731 -21.630448   6667.252276  92.167111 -0.694428  49.824067   \n",
       "\n",
       "        251  252  \n",
       "0  -0.45614  0.0  \n",
       "1  -0.45614  0.0  \n",
       "2  -0.45614  0.0  \n",
       "3  -0.45614  1.0  \n",
       "4  47.54386  0.0  \n",
       "\n",
       "[5 rows x 255 columns]"
      ]
     },
     "execution_count": 19,
     "metadata": {},
     "output_type": "execute_result"
    }
   ],
   "source": [
    "features_df.head()"
   ]
  },
  {
   "cell_type": "code",
   "execution_count": 20,
   "id": "8d06f282",
   "metadata": {},
   "outputs": [],
   "source": [
    "# t = features_df.shape\n",
    "# t[0].compute(), t[1]"
   ]
  },
  {
   "cell_type": "markdown",
   "id": "5a89a733",
   "metadata": {},
   "source": [
    "(4512528, 255)"
   ]
  },
  {
   "cell_type": "code",
   "execution_count": 21,
   "id": "4330eca1",
   "metadata": {
    "scrolled": true
   },
   "outputs": [],
   "source": [
    "# features_df['id'].nunique().compute()"
   ]
  },
  {
   "cell_type": "markdown",
   "id": "143cda6a",
   "metadata": {},
   "source": [
    "4362739"
   ]
  },
  {
   "cell_type": "markdown",
   "id": "84ad8c50",
   "metadata": {},
   "source": [
    "**Train with features:**"
   ]
  },
  {
   "cell_type": "code",
   "execution_count": 22,
   "id": "d6447be6",
   "metadata": {},
   "outputs": [
    {
     "data": {
      "text/html": [
       "<div>\n",
       "<style scoped>\n",
       "    .dataframe tbody tr th:only-of-type {\n",
       "        vertical-align: middle;\n",
       "    }\n",
       "\n",
       "    .dataframe tbody tr th {\n",
       "        vertical-align: top;\n",
       "    }\n",
       "\n",
       "    .dataframe thead th {\n",
       "        text-align: right;\n",
       "    }\n",
       "</style>\n",
       "<table border=\"1\" class=\"dataframe\">\n",
       "  <thead>\n",
       "    <tr style=\"text-align: right;\">\n",
       "      <th></th>\n",
       "      <th>id</th>\n",
       "      <th>vas_id</th>\n",
       "      <th>target</th>\n",
       "      <th>0</th>\n",
       "      <th>1</th>\n",
       "      <th>2</th>\n",
       "      <th>3</th>\n",
       "      <th>4</th>\n",
       "      <th>5</th>\n",
       "      <th>6</th>\n",
       "      <th>...</th>\n",
       "      <th>243</th>\n",
       "      <th>244</th>\n",
       "      <th>245</th>\n",
       "      <th>246</th>\n",
       "      <th>247</th>\n",
       "      <th>248</th>\n",
       "      <th>249</th>\n",
       "      <th>250</th>\n",
       "      <th>251</th>\n",
       "      <th>252</th>\n",
       "    </tr>\n",
       "  </thead>\n",
       "  <tbody>\n",
       "    <tr>\n",
       "      <th>0</th>\n",
       "      <td>540968</td>\n",
       "      <td>8.0</td>\n",
       "      <td>0.0</td>\n",
       "      <td>-31.559971</td>\n",
       "      <td>327.360888</td>\n",
       "      <td>-45.500786</td>\n",
       "      <td>274.753202</td>\n",
       "      <td>-50.918246</td>\n",
       "      <td>253.64821</td>\n",
       "      <td>49.15382</td>\n",
       "      <td>...</td>\n",
       "      <td>-845.373846</td>\n",
       "      <td>-613.770792</td>\n",
       "      <td>-20.996269</td>\n",
       "      <td>-37.630448</td>\n",
       "      <td>-28.747724</td>\n",
       "      <td>4.167111</td>\n",
       "      <td>7.305572</td>\n",
       "      <td>-12.175933</td>\n",
       "      <td>21.54386</td>\n",
       "      <td>0.0</td>\n",
       "    </tr>\n",
       "    <tr>\n",
       "      <th>1</th>\n",
       "      <td>1454121</td>\n",
       "      <td>4.0</td>\n",
       "      <td>0.0</td>\n",
       "      <td>547.270029</td>\n",
       "      <td>238.430888</td>\n",
       "      <td>533.329214</td>\n",
       "      <td>274.803202</td>\n",
       "      <td>527.911754</td>\n",
       "      <td>253.69821</td>\n",
       "      <td>-16.08618</td>\n",
       "      <td>...</td>\n",
       "      <td>-972.373846</td>\n",
       "      <td>-613.770792</td>\n",
       "      <td>-25.996269</td>\n",
       "      <td>-19.630448</td>\n",
       "      <td>-278.747724</td>\n",
       "      <td>-24.832889</td>\n",
       "      <td>-0.694428</td>\n",
       "      <td>-11.175933</td>\n",
       "      <td>-0.45614</td>\n",
       "      <td>0.0</td>\n",
       "    </tr>\n",
       "    <tr>\n",
       "      <th>2</th>\n",
       "      <td>2458816</td>\n",
       "      <td>1.0</td>\n",
       "      <td>0.0</td>\n",
       "      <td>-92.139971</td>\n",
       "      <td>-95.469112</td>\n",
       "      <td>-106.080786</td>\n",
       "      <td>-139.596798</td>\n",
       "      <td>-111.498246</td>\n",
       "      <td>-142.90179</td>\n",
       "      <td>-16.08618</td>\n",
       "      <td>...</td>\n",
       "      <td>-977.373846</td>\n",
       "      <td>-613.770792</td>\n",
       "      <td>-25.996269</td>\n",
       "      <td>-37.630448</td>\n",
       "      <td>-304.747724</td>\n",
       "      <td>-25.832889</td>\n",
       "      <td>-0.694428</td>\n",
       "      <td>-12.175933</td>\n",
       "      <td>-0.45614</td>\n",
       "      <td>0.0</td>\n",
       "    </tr>\n",
       "    <tr>\n",
       "      <th>3</th>\n",
       "      <td>3535012</td>\n",
       "      <td>5.0</td>\n",
       "      <td>0.0</td>\n",
       "      <td>54.880029</td>\n",
       "      <td>12.970888</td>\n",
       "      <td>54.079214</td>\n",
       "      <td>-9.116798</td>\n",
       "      <td>48.661754</td>\n",
       "      <td>-30.22179</td>\n",
       "      <td>60.17382</td>\n",
       "      <td>...</td>\n",
       "      <td>-977.373846</td>\n",
       "      <td>-613.770792</td>\n",
       "      <td>-25.996269</td>\n",
       "      <td>-18.630448</td>\n",
       "      <td>-133.747724</td>\n",
       "      <td>-14.832889</td>\n",
       "      <td>-0.694428</td>\n",
       "      <td>-1.175933</td>\n",
       "      <td>-0.45614</td>\n",
       "      <td>0.0</td>\n",
       "    </tr>\n",
       "    <tr>\n",
       "      <th>4</th>\n",
       "      <td>1693214</td>\n",
       "      <td>1.0</td>\n",
       "      <td>0.0</td>\n",
       "      <td>45.160029</td>\n",
       "      <td>295.240888</td>\n",
       "      <td>64.679214</td>\n",
       "      <td>344.283202</td>\n",
       "      <td>59.261754</td>\n",
       "      <td>323.17821</td>\n",
       "      <td>-16.08618</td>\n",
       "      <td>...</td>\n",
       "      <td>-965.373846</td>\n",
       "      <td>-612.770792</td>\n",
       "      <td>-22.996269</td>\n",
       "      <td>-32.630448</td>\n",
       "      <td>-127.747724</td>\n",
       "      <td>-4.832889</td>\n",
       "      <td>-0.694428</td>\n",
       "      <td>-12.175933</td>\n",
       "      <td>-0.45614</td>\n",
       "      <td>0.0</td>\n",
       "    </tr>\n",
       "  </tbody>\n",
       "</table>\n",
       "<p>5 rows × 256 columns</p>\n",
       "</div>"
      ],
      "text/plain": [
       "        id  vas_id  target           0           1           2           3  \\\n",
       "0   540968     8.0     0.0  -31.559971  327.360888  -45.500786  274.753202   \n",
       "1  1454121     4.0     0.0  547.270029  238.430888  533.329214  274.803202   \n",
       "2  2458816     1.0     0.0  -92.139971  -95.469112 -106.080786 -139.596798   \n",
       "3  3535012     5.0     0.0   54.880029   12.970888   54.079214   -9.116798   \n",
       "4  1693214     1.0     0.0   45.160029  295.240888   64.679214  344.283202   \n",
       "\n",
       "            4          5         6  ...         243         244        245  \\\n",
       "0  -50.918246  253.64821  49.15382  ... -845.373846 -613.770792 -20.996269   \n",
       "1  527.911754  253.69821 -16.08618  ... -972.373846 -613.770792 -25.996269   \n",
       "2 -111.498246 -142.90179 -16.08618  ... -977.373846 -613.770792 -25.996269   \n",
       "3   48.661754  -30.22179  60.17382  ... -977.373846 -613.770792 -25.996269   \n",
       "4   59.261754  323.17821 -16.08618  ... -965.373846 -612.770792 -22.996269   \n",
       "\n",
       "         246         247        248       249        250       251  252  \n",
       "0 -37.630448  -28.747724   4.167111  7.305572 -12.175933  21.54386  0.0  \n",
       "1 -19.630448 -278.747724 -24.832889 -0.694428 -11.175933  -0.45614  0.0  \n",
       "2 -37.630448 -304.747724 -25.832889 -0.694428 -12.175933  -0.45614  0.0  \n",
       "3 -18.630448 -133.747724 -14.832889 -0.694428  -1.175933  -0.45614  0.0  \n",
       "4 -32.630448 -127.747724  -4.832889 -0.694428 -12.175933  -0.45614  0.0  \n",
       "\n",
       "[5 rows x 256 columns]"
      ]
     },
     "execution_count": 22,
     "metadata": {},
     "output_type": "execute_result"
    }
   ],
   "source": [
    "train_with_feats_df.head()"
   ]
  },
  {
   "cell_type": "code",
   "execution_count": 23,
   "id": "024a6c6d",
   "metadata": {
    "scrolled": true
   },
   "outputs": [
    {
     "name": "stdout",
     "output_type": "stream",
     "text": [
      "<class 'pandas.core.frame.DataFrame'>\n",
      "Int64Index: 860052 entries, 0 to 831652\n",
      "Data columns (total 256 columns):\n",
      " #    Column  Non-Null Count   Dtype  \n",
      "---   ------  --------------   -----  \n",
      " 0    id      860052 non-null  int64  \n",
      " 1    vas_id  860052 non-null  float64\n",
      " 2    target  860052 non-null  float64\n",
      " 3    0       860052 non-null  float64\n",
      " 4    1       860052 non-null  float64\n",
      " 5    2       860052 non-null  float64\n",
      " 6    3       860052 non-null  float64\n",
      " 7    4       860052 non-null  float64\n",
      " 8    5       860052 non-null  float64\n",
      " 9    6       860052 non-null  float64\n",
      " 10   7       860052 non-null  float64\n",
      " 11   8       860052 non-null  float64\n",
      " 12   9       860052 non-null  float64\n",
      " 13   10      860052 non-null  float64\n",
      " 14   11      860052 non-null  float64\n",
      " 15   12      860052 non-null  float64\n",
      " 16   13      860052 non-null  float64\n",
      " 17   14      860052 non-null  float64\n",
      " 18   15      860052 non-null  float64\n",
      " 19   16      860052 non-null  float64\n",
      " 20   17      860052 non-null  float64\n",
      " 21   18      860052 non-null  float64\n",
      " 22   19      860052 non-null  float64\n",
      " 23   20      860052 non-null  float64\n",
      " 24   21      860052 non-null  float64\n",
      " 25   22      860052 non-null  float64\n",
      " 26   23      860052 non-null  float64\n",
      " 27   24      860052 non-null  float64\n",
      " 28   25      860052 non-null  float64\n",
      " 29   26      860052 non-null  float64\n",
      " 30   27      860052 non-null  float64\n",
      " 31   28      860052 non-null  float64\n",
      " 32   29      860052 non-null  float64\n",
      " 33   30      860052 non-null  float64\n",
      " 34   31      860052 non-null  float64\n",
      " 35   32      860052 non-null  float64\n",
      " 36   33      860052 non-null  float64\n",
      " 37   34      860052 non-null  float64\n",
      " 38   35      860052 non-null  float64\n",
      " 39   36      860052 non-null  float64\n",
      " 40   37      860052 non-null  float64\n",
      " 41   38      860052 non-null  float64\n",
      " 42   39      860052 non-null  float64\n",
      " 43   40      860052 non-null  float64\n",
      " 44   41      860052 non-null  float64\n",
      " 45   42      860052 non-null  float64\n",
      " 46   43      860052 non-null  float64\n",
      " 47   44      860052 non-null  float64\n",
      " 48   45      860052 non-null  float64\n",
      " 49   46      860052 non-null  float64\n",
      " 50   47      860052 non-null  float64\n",
      " 51   48      860052 non-null  float64\n",
      " 52   49      860052 non-null  float64\n",
      " 53   50      860052 non-null  float64\n",
      " 54   51      860052 non-null  float64\n",
      " 55   52      860052 non-null  float64\n",
      " 56   53      860052 non-null  float64\n",
      " 57   54      860052 non-null  float64\n",
      " 58   55      860052 non-null  float64\n",
      " 59   56      860052 non-null  float64\n",
      " 60   57      860052 non-null  float64\n",
      " 61   58      860052 non-null  float64\n",
      " 62   59      860052 non-null  float64\n",
      " 63   60      860052 non-null  float64\n",
      " 64   61      860052 non-null  float64\n",
      " 65   62      860052 non-null  float64\n",
      " 66   63      860052 non-null  float64\n",
      " 67   64      860052 non-null  float64\n",
      " 68   65      860052 non-null  float64\n",
      " 69   66      860052 non-null  float64\n",
      " 70   67      860052 non-null  float64\n",
      " 71   68      860052 non-null  float64\n",
      " 72   69      860052 non-null  float64\n",
      " 73   70      860052 non-null  float64\n",
      " 74   71      860052 non-null  float64\n",
      " 75   72      860052 non-null  float64\n",
      " 76   73      860052 non-null  float64\n",
      " 77   74      860052 non-null  float64\n",
      " 78   75      860052 non-null  float64\n",
      " 79   76      860052 non-null  float64\n",
      " 80   77      860052 non-null  float64\n",
      " 81   78      860052 non-null  float64\n",
      " 82   79      860052 non-null  float64\n",
      " 83   80      860052 non-null  float64\n",
      " 84   81      860052 non-null  float64\n",
      " 85   82      860052 non-null  float64\n",
      " 86   83      860052 non-null  float64\n",
      " 87   84      860052 non-null  float64\n",
      " 88   85      860052 non-null  float64\n",
      " 89   86      860052 non-null  float64\n",
      " 90   87      860052 non-null  float64\n",
      " 91   88      860052 non-null  float64\n",
      " 92   89      860052 non-null  float64\n",
      " 93   90      860052 non-null  float64\n",
      " 94   91      860052 non-null  float64\n",
      " 95   92      860052 non-null  float64\n",
      " 96   93      860052 non-null  float64\n",
      " 97   94      860052 non-null  float64\n",
      " 98   95      860052 non-null  float64\n",
      " 99   96      860052 non-null  float64\n",
      " 100  97      860052 non-null  float64\n",
      " 101  98      860052 non-null  float64\n",
      " 102  99      860052 non-null  float64\n",
      " 103  100     860052 non-null  float64\n",
      " 104  101     860052 non-null  float64\n",
      " 105  102     860052 non-null  float64\n",
      " 106  103     860052 non-null  float64\n",
      " 107  104     860052 non-null  float64\n",
      " 108  105     860052 non-null  float64\n",
      " 109  106     860052 non-null  float64\n",
      " 110  107     860052 non-null  float64\n",
      " 111  108     860052 non-null  float64\n",
      " 112  109     860052 non-null  float64\n",
      " 113  110     860052 non-null  float64\n",
      " 114  111     860052 non-null  float64\n",
      " 115  112     860052 non-null  float64\n",
      " 116  113     860052 non-null  float64\n",
      " 117  114     860052 non-null  float64\n",
      " 118  115     860052 non-null  float64\n",
      " 119  116     860052 non-null  float64\n",
      " 120  117     860052 non-null  float64\n",
      " 121  118     860052 non-null  float64\n",
      " 122  119     860052 non-null  float64\n",
      " 123  120     860052 non-null  float64\n",
      " 124  121     860052 non-null  float64\n",
      " 125  122     860052 non-null  float64\n",
      " 126  123     860052 non-null  float64\n",
      " 127  124     860052 non-null  float64\n",
      " 128  125     860052 non-null  float64\n",
      " 129  126     860052 non-null  float64\n",
      " 130  127     860052 non-null  float64\n",
      " 131  128     860052 non-null  float64\n",
      " 132  129     860052 non-null  float64\n",
      " 133  130     860052 non-null  float64\n",
      " 134  131     860052 non-null  float64\n",
      " 135  132     860052 non-null  float64\n",
      " 136  133     860052 non-null  float64\n",
      " 137  134     860052 non-null  float64\n",
      " 138  135     860052 non-null  float64\n",
      " 139  136     860052 non-null  float64\n",
      " 140  137     860052 non-null  float64\n",
      " 141  138     860052 non-null  float64\n",
      " 142  139     860052 non-null  float64\n",
      " 143  140     860052 non-null  float64\n",
      " 144  141     860052 non-null  float64\n",
      " 145  142     860052 non-null  float64\n",
      " 146  143     860052 non-null  float64\n",
      " 147  144     860052 non-null  float64\n",
      " 148  145     860052 non-null  float64\n",
      " 149  146     860052 non-null  float64\n",
      " 150  147     860052 non-null  float64\n",
      " 151  148     860052 non-null  float64\n",
      " 152  149     860052 non-null  float64\n",
      " 153  150     860052 non-null  float64\n",
      " 154  151     860052 non-null  float64\n",
      " 155  152     860052 non-null  float64\n",
      " 156  153     860052 non-null  float64\n",
      " 157  154     860052 non-null  float64\n",
      " 158  155     860052 non-null  float64\n",
      " 159  156     860052 non-null  float64\n",
      " 160  157     860052 non-null  float64\n",
      " 161  158     860052 non-null  float64\n",
      " 162  159     860052 non-null  float64\n",
      " 163  160     860052 non-null  float64\n",
      " 164  161     860052 non-null  float64\n",
      " 165  162     860052 non-null  float64\n",
      " 166  163     860052 non-null  float64\n",
      " 167  164     860052 non-null  float64\n",
      " 168  165     860052 non-null  float64\n",
      " 169  166     860052 non-null  float64\n",
      " 170  167     860052 non-null  float64\n",
      " 171  168     860052 non-null  float64\n",
      " 172  169     860052 non-null  float64\n",
      " 173  170     860052 non-null  float64\n",
      " 174  171     860052 non-null  float64\n",
      " 175  172     860052 non-null  float64\n",
      " 176  173     860052 non-null  float64\n",
      " 177  174     860052 non-null  float64\n",
      " 178  175     860052 non-null  float64\n",
      " 179  176     860052 non-null  float64\n",
      " 180  177     860052 non-null  float64\n",
      " 181  178     860052 non-null  float64\n",
      " 182  179     860052 non-null  float64\n",
      " 183  180     860052 non-null  float64\n",
      " 184  181     860052 non-null  float64\n",
      " 185  182     860052 non-null  float64\n",
      " 186  183     860052 non-null  float64\n",
      " 187  184     860052 non-null  float64\n",
      " 188  185     860052 non-null  float64\n",
      " 189  186     860052 non-null  float64\n",
      " 190  187     860052 non-null  float64\n",
      " 191  188     860052 non-null  float64\n",
      " 192  189     860052 non-null  float64\n",
      " 193  190     860052 non-null  float64\n",
      " 194  191     860052 non-null  float64\n",
      " 195  192     860052 non-null  float64\n",
      " 196  193     860052 non-null  float64\n",
      " 197  194     860052 non-null  float64\n",
      " 198  195     860052 non-null  float64\n",
      " 199  196     860052 non-null  float64\n",
      " 200  197     860052 non-null  float64\n",
      " 201  198     860052 non-null  float64\n",
      " 202  199     860052 non-null  float64\n",
      " 203  200     860052 non-null  float64\n",
      " 204  201     860052 non-null  float64\n",
      " 205  202     860052 non-null  float64\n",
      " 206  203     860052 non-null  float64\n",
      " 207  204     860052 non-null  float64\n",
      " 208  205     860052 non-null  float64\n",
      " 209  206     860052 non-null  float64\n",
      " 210  207     860052 non-null  float64\n",
      " 211  208     860052 non-null  float64\n",
      " 212  209     860052 non-null  float64\n",
      " 213  210     860052 non-null  float64\n",
      " 214  211     860052 non-null  float64\n",
      " 215  212     860052 non-null  float64\n",
      " 216  213     860052 non-null  float64\n",
      " 217  214     860052 non-null  float64\n",
      " 218  215     860052 non-null  float64\n",
      " 219  216     860052 non-null  float64\n",
      " 220  217     860052 non-null  float64\n",
      " 221  218     860052 non-null  float64\n",
      " 222  219     860052 non-null  float64\n",
      " 223  220     860052 non-null  float64\n",
      " 224  221     860052 non-null  float64\n",
      " 225  222     860052 non-null  float64\n",
      " 226  223     860052 non-null  float64\n",
      " 227  224     860052 non-null  float64\n",
      " 228  225     860052 non-null  float64\n",
      " 229  226     860052 non-null  float64\n",
      " 230  227     860052 non-null  float64\n",
      " 231  228     860052 non-null  float64\n",
      " 232  229     860052 non-null  float64\n",
      " 233  230     860052 non-null  float64\n",
      " 234  231     860052 non-null  float64\n",
      " 235  232     860052 non-null  float64\n",
      " 236  233     860052 non-null  float64\n",
      " 237  234     860052 non-null  float64\n",
      " 238  235     860052 non-null  float64\n",
      " 239  236     860052 non-null  float64\n",
      " 240  237     860052 non-null  float64\n",
      " 241  238     860052 non-null  float64\n",
      " 242  239     860052 non-null  float64\n",
      " 243  240     860052 non-null  float64\n",
      " 244  241     860052 non-null  float64\n",
      " 245  242     860052 non-null  float64\n",
      " 246  243     860052 non-null  float64\n",
      " 247  244     860052 non-null  float64\n",
      " 248  245     860052 non-null  float64\n",
      " 249  246     860052 non-null  float64\n",
      " 250  247     860052 non-null  float64\n",
      " 251  248     860052 non-null  float64\n",
      " 252  249     860052 non-null  float64\n",
      " 253  250     860052 non-null  float64\n",
      " 254  251     860052 non-null  float64\n",
      " 255  252     860052 non-null  float64\n",
      "dtypes: float64(255), int64(1)\n",
      "memory usage: 1.6 GB\n"
     ]
    }
   ],
   "source": [
    "train_with_feats_df.info(verbose=True, show_counts=True)"
   ]
  },
  {
   "cell_type": "code",
   "execution_count": 24,
   "id": "5146b227",
   "metadata": {},
   "outputs": [
    {
     "data": {
      "text/plain": [
       "(860052, 256)"
      ]
     },
     "execution_count": 24,
     "metadata": {},
     "output_type": "execute_result"
    }
   ],
   "source": [
    "train_with_feats_df.shape"
   ]
  },
  {
   "cell_type": "markdown",
   "id": "48b6ecf3",
   "metadata": {},
   "source": [
    "Как видим, пропусков в данных нет. Это хорошо."
   ]
  },
  {
   "cell_type": "markdown",
   "id": "e8d52e0f",
   "metadata": {},
   "source": [
    "### Распределение целевой переменной"
   ]
  },
  {
   "cell_type": "code",
   "execution_count": 25,
   "id": "93586b2c",
   "metadata": {},
   "outputs": [
    {
     "data": {
      "text/plain": [
       "0.0    0.927631\n",
       "1.0    0.072369\n",
       "Name: target, dtype: float64"
      ]
     },
     "execution_count": 25,
     "metadata": {},
     "output_type": "execute_result"
    },
    {
     "data": {
      "image/png": "[encoded data removed]",
      "text/plain": [
       "<Figure size 640x480 with 1 Axes>"
      ]
     },
     "metadata": {},
     "output_type": "display_data"
    }
   ],
   "source": [
    "y = train_df['target']\n",
    "(y.value_counts()/y.shape[0]).plot(kind='bar', title='Распределение целевой переменной');\n",
    "y.value_counts()/y.shape"
   ]
  },
  {
   "cell_type": "code",
   "execution_count": 26,
   "id": "52813be3",
   "metadata": {},
   "outputs": [
    {
     "data": {
      "text/plain": [
       "0.0    0.927671\n",
       "1.0    0.072329\n",
       "Name: target, dtype: float64"
      ]
     },
     "execution_count": 26,
     "metadata": {},
     "output_type": "execute_result"
    },
    {
     "data": {
      "image/png": "[encoded data removed]",
      "text/plain": [
       "<Figure size 640x480 with 1 Axes>"
      ]
     },
     "metadata": {},
     "output_type": "display_data"
    }
   ],
   "source": [
    "y = train_with_feats_df['target']\n",
    "(y.value_counts()/y.shape[0]).plot(kind='bar', title='Распределение целевой переменной');\n",
    "y.value_counts()/y.shape"
   ]
  },
  {
   "cell_type": "markdown",
   "id": "9aed731a",
   "metadata": {},
   "source": [
    "Датасет сильно несбалансированный, примерно **13:1**\n",
    "    \n",
    "Посмотрим как целевая переменная распределялась по услугам:"
   ]
  },
  {
   "cell_type": "code",
   "execution_count": 27,
   "id": "900f1999",
   "metadata": {},
   "outputs": [
    {
     "data": {
      "text/plain": [
       "1.0    310175\n",
       "2.0    249505\n",
       "4.0     85756\n",
       "5.0     94085\n",
       "6.0     57878\n",
       "7.0     15432\n",
       "8.0     13350\n",
       "9.0      5472\n",
       "Name: vas_id, dtype: int64"
      ]
     },
     "execution_count": 27,
     "metadata": {},
     "output_type": "execute_result"
    }
   ],
   "source": [
    "train_df['vas_id'].value_counts().sort_index()"
   ]
  },
  {
   "cell_type": "code",
   "execution_count": 28,
   "id": "8b286201",
   "metadata": {},
   "outputs": [
    {
     "data": {
      "text/plain": [
       "1.0     5664\n",
       "2.0     4797\n",
       "4.0    21765\n",
       "5.0     1692\n",
       "6.0    24704\n",
       "7.0      213\n",
       "8.0      347\n",
       "9.0     1004\n",
       "Name: vas_id, dtype: int64"
      ]
     },
     "execution_count": 28,
     "metadata": {},
     "output_type": "execute_result"
    }
   ],
   "source": [
    "vas_one = train_df.loc[(train_df['target']==1, 'vas_id') ].value_counts().sort_index()\n",
    "vas_one"
   ]
  },
  {
   "cell_type": "code",
   "execution_count": 29,
   "id": "6b4dfc02",
   "metadata": {
    "scrolled": false
   },
   "outputs": [
    {
     "data": {
      "text/plain": [
       "1.0    304511\n",
       "2.0    244708\n",
       "4.0     63991\n",
       "5.0     92393\n",
       "6.0     33174\n",
       "7.0     15219\n",
       "8.0     13003\n",
       "9.0      4468\n",
       "Name: vas_id, dtype: int64"
      ]
     },
     "execution_count": 29,
     "metadata": {},
     "output_type": "execute_result"
    }
   ],
   "source": [
    "vas_zero = train_df.loc[(train_df['target']==0, 'vas_id') ].value_counts().sort_index()\n",
    "vas_zero"
   ]
  },
  {
   "cell_type": "markdown",
   "id": "7be35500",
   "metadata": {},
   "source": [
    "Изобразим:"
   ]
  },
  {
   "cell_type": "code",
   "execution_count": 30,
   "id": "de969920",
   "metadata": {
    "scrolled": false
   },
   "outputs": [
    {
     "data": {
      "text/html": [
       "<div>\n",
       "<style scoped>\n",
       "    .dataframe tbody tr th:only-of-type {\n",
       "        vertical-align: middle;\n",
       "    }\n",
       "\n",
       "    .dataframe tbody tr th {\n",
       "        vertical-align: top;\n",
       "    }\n",
       "\n",
       "    .dataframe thead th {\n",
       "        text-align: right;\n",
       "    }\n",
       "</style>\n",
       "<table border=\"1\" class=\"dataframe\">\n",
       "  <thead>\n",
       "    <tr style=\"text-align: right;\">\n",
       "      <th></th>\n",
       "      <th>0</th>\n",
       "      <th>1</th>\n",
       "      <th>conversion</th>\n",
       "    </tr>\n",
       "  </thead>\n",
       "  <tbody>\n",
       "    <tr>\n",
       "      <th>1.0</th>\n",
       "      <td>304511</td>\n",
       "      <td>5664</td>\n",
       "      <td>0.018261</td>\n",
       "    </tr>\n",
       "    <tr>\n",
       "      <th>2.0</th>\n",
       "      <td>244708</td>\n",
       "      <td>4797</td>\n",
       "      <td>0.019226</td>\n",
       "    </tr>\n",
       "    <tr>\n",
       "      <th>4.0</th>\n",
       "      <td>63991</td>\n",
       "      <td>21765</td>\n",
       "      <td>0.253801</td>\n",
       "    </tr>\n",
       "    <tr>\n",
       "      <th>5.0</th>\n",
       "      <td>92393</td>\n",
       "      <td>1692</td>\n",
       "      <td>0.017984</td>\n",
       "    </tr>\n",
       "    <tr>\n",
       "      <th>6.0</th>\n",
       "      <td>33174</td>\n",
       "      <td>24704</td>\n",
       "      <td>0.426829</td>\n",
       "    </tr>\n",
       "    <tr>\n",
       "      <th>7.0</th>\n",
       "      <td>15219</td>\n",
       "      <td>213</td>\n",
       "      <td>0.013802</td>\n",
       "    </tr>\n",
       "    <tr>\n",
       "      <th>8.0</th>\n",
       "      <td>13003</td>\n",
       "      <td>347</td>\n",
       "      <td>0.025993</td>\n",
       "    </tr>\n",
       "    <tr>\n",
       "      <th>9.0</th>\n",
       "      <td>4468</td>\n",
       "      <td>1004</td>\n",
       "      <td>0.183480</td>\n",
       "    </tr>\n",
       "  </tbody>\n",
       "</table>\n",
       "</div>"
      ],
      "text/plain": [
       "          0      1  conversion\n",
       "1.0  304511   5664    0.018261\n",
       "2.0  244708   4797    0.019226\n",
       "4.0   63991  21765    0.253801\n",
       "5.0   92393   1692    0.017984\n",
       "6.0   33174  24704    0.426829\n",
       "7.0   15219    213    0.013802\n",
       "8.0   13003    347    0.025993\n",
       "9.0    4468   1004    0.183480"
      ]
     },
     "execution_count": 30,
     "metadata": {},
     "output_type": "execute_result"
    },
    {
     "data": {
      "image/png": "[encoded data removed]",
      "text/plain": [
       "<Figure size 640x480 with 1 Axes>"
      ]
     },
     "metadata": {},
     "output_type": "display_data"
    }
   ],
   "source": [
    "a = pd.DataFrame({'count': vas_zero})\n",
    "a['target'] = 0\n",
    "b = pd.DataFrame({'count': vas_one})\n",
    "b['target'] = 1\n",
    "c = pd.concat([a, b], axis=0)\n",
    "d = pd.concat([vas_zero.rename('0'), vas_one.rename('1')], axis=1)\n",
    "d['conversion'] = d['1']/d.sum(axis=1)\n",
    "sns.barplot(data=c, x=c.index, y='count', hue='target');\n",
    "d"
   ]
  },
  {
   "cell_type": "markdown",
   "id": "ac334469",
   "metadata": {},
   "source": [
    "* Самые предлагаемые услуги: 1, 2\n",
    "* Самая высокая конверсия: 4, 6, 9\n",
    "* Самая низкая конверсия: 1, 2, 5, 7, 8"
   ]
  },
  {
   "cell_type": "markdown",
   "id": "4ed6607f",
   "metadata": {},
   "source": [
    "### Анализ временного ряда\n",
    "\n",
    "Посмотрим какое время охватывают предоставленные данные."
   ]
  },
  {
   "cell_type": "code",
   "execution_count": 31,
   "id": "a35cc832",
   "metadata": {},
   "outputs": [
    {
     "name": "stdout",
     "output_type": "stream",
     "text": [
      "2018-07-09 00:00:00\n",
      "2018-12-31 00:00:00\n"
     ]
    }
   ],
   "source": [
    "print(datetime.fromtimestamp(train_df['buy_time'].min()).strftime('%Y-%m-%d %H:%M:%S'))\n",
    "print(datetime.fromtimestamp(train_df['buy_time'].max()).strftime('%Y-%m-%d %H:%M:%S'))"
   ]
  },
  {
   "cell_type": "markdown",
   "id": "3b15dac1",
   "metadata": {},
   "source": [
    "Построим график количества предложений каждой услуги на всем временном ряду:"
   ]
  },
  {
   "cell_type": "code",
   "execution_count": 32,
   "id": "f653ab50",
   "metadata": {},
   "outputs": [
    {
     "data": {
      "image/png": "[encoded data removed]",
      "text/plain": [
       "<Figure size 1500x1000 with 1 Axes>"
      ]
     },
     "metadata": {},
     "output_type": "display_data"
    }
   ],
   "source": [
    "plt.figure(figsize=(15,10))\n",
    "plt.plot(train_df.loc[(train_df['vas_id']==1, 'buy_time') ].value_counts().sort_index(), '--', label='vas_id=1')\n",
    "plt.plot(train_df.loc[(train_df['vas_id']==2, 'buy_time') ].value_counts().sort_index(), '--', label='vas_id=2')\n",
    "plt.plot(train_df.loc[(train_df['vas_id']==4, 'buy_time') ].value_counts().sort_index(), label='vas_id=4')\n",
    "plt.plot(train_df.loc[(train_df['vas_id']==5, 'buy_time') ].value_counts().sort_index(), '--', label='vas_id=5')\n",
    "plt.plot(train_df.loc[(train_df['vas_id']==6, 'buy_time') ].value_counts().sort_index(), label='vas_id=6')\n",
    "plt.plot(train_df.loc[(train_df['vas_id']==7, 'buy_time') ].value_counts().sort_index(),'--', label='vas_id=7')\n",
    "plt.plot(train_df.loc[(train_df['vas_id']==8, 'buy_time') ].value_counts().sort_index(),'--', label='vas_id=8')\n",
    "plt.plot(train_df.loc[(train_df['vas_id']==9, 'buy_time') ].value_counts().sort_index(), label='vas_id=9')\n",
    "plt.minorticks_on()\n",
    "plt.grid(which='major')\n",
    "plt.legend()\n",
    "plt.show()"
   ]
  },
  {
   "cell_type": "markdown",
   "id": "a44ba9af",
   "metadata": {},
   "source": [
    "По графику видно, что активнее всего услуги предлагали в начале временного ряда и в конце, что соответствует середине (2018-07-09) и концу (2018-12-31) 2018 года. Скорее всего это связано с определенными рекламными компаниями. Непопулярные к предложению услуги отмечены пунктиром. Самые подключаемые - точками.\n",
    "\n",
    "Думаю время при обучении все-таки учитывать не стоит."
   ]
  },
  {
   "cell_type": "markdown",
   "id": "85ed4df0",
   "metadata": {},
   "source": [
    "## 2. Подготовка и отбор признаков <a class='anchor' id='data_preparation'>\n",
    "\n",
    "- Определение типов признаков"
   ]
  },
  {
   "cell_type": "code",
   "execution_count": 33,
   "id": "25d33f2e",
   "metadata": {},
   "outputs": [],
   "source": [
    "# Разделим признаки и целевую переменную\n",
    "features_drop = ['id', 'target']\n",
    "\n",
    "X = train_with_feats_df.drop(features_drop, axis=1)\n",
    "y = train_with_feats_df['target']"
   ]
  },
  {
   "cell_type": "code",
   "execution_count": 34,
   "id": "e613490f",
   "metadata": {
    "scrolled": false
   },
   "outputs": [
    {
     "data": {
      "text/html": [
       "<div>\n",
       "<style scoped>\n",
       "    .dataframe tbody tr th:only-of-type {\n",
       "        vertical-align: middle;\n",
       "    }\n",
       "\n",
       "    .dataframe tbody tr th {\n",
       "        vertical-align: top;\n",
       "    }\n",
       "\n",
       "    .dataframe thead th {\n",
       "        text-align: right;\n",
       "    }\n",
       "</style>\n",
       "<table border=\"1\" class=\"dataframe\">\n",
       "  <thead>\n",
       "    <tr style=\"text-align: right;\">\n",
       "      <th></th>\n",
       "      <th>vas_id</th>\n",
       "      <th>0</th>\n",
       "      <th>1</th>\n",
       "      <th>2</th>\n",
       "      <th>3</th>\n",
       "      <th>4</th>\n",
       "      <th>5</th>\n",
       "      <th>6</th>\n",
       "      <th>7</th>\n",
       "      <th>8</th>\n",
       "      <th>...</th>\n",
       "      <th>243</th>\n",
       "      <th>244</th>\n",
       "      <th>245</th>\n",
       "      <th>246</th>\n",
       "      <th>247</th>\n",
       "      <th>248</th>\n",
       "      <th>249</th>\n",
       "      <th>250</th>\n",
       "      <th>251</th>\n",
       "      <th>252</th>\n",
       "    </tr>\n",
       "  </thead>\n",
       "  <tbody>\n",
       "    <tr>\n",
       "      <th>0</th>\n",
       "      <td>8.0</td>\n",
       "      <td>-31.559971</td>\n",
       "      <td>327.360888</td>\n",
       "      <td>-45.500786</td>\n",
       "      <td>274.753202</td>\n",
       "      <td>-50.918246</td>\n",
       "      <td>253.64821</td>\n",
       "      <td>49.15382</td>\n",
       "      <td>195.883903</td>\n",
       "      <td>-1.835267</td>\n",
       "      <td>...</td>\n",
       "      <td>-845.373846</td>\n",
       "      <td>-613.770792</td>\n",
       "      <td>-20.996269</td>\n",
       "      <td>-37.630448</td>\n",
       "      <td>-28.747724</td>\n",
       "      <td>4.167111</td>\n",
       "      <td>7.305572</td>\n",
       "      <td>-12.175933</td>\n",
       "      <td>21.54386</td>\n",
       "      <td>0.0</td>\n",
       "    </tr>\n",
       "    <tr>\n",
       "      <th>1</th>\n",
       "      <td>4.0</td>\n",
       "      <td>547.270029</td>\n",
       "      <td>238.430888</td>\n",
       "      <td>533.329214</td>\n",
       "      <td>274.803202</td>\n",
       "      <td>527.911754</td>\n",
       "      <td>253.69821</td>\n",
       "      <td>-16.08618</td>\n",
       "      <td>-65.076097</td>\n",
       "      <td>-6.783660</td>\n",
       "      <td>...</td>\n",
       "      <td>-972.373846</td>\n",
       "      <td>-613.770792</td>\n",
       "      <td>-25.996269</td>\n",
       "      <td>-19.630448</td>\n",
       "      <td>-278.747724</td>\n",
       "      <td>-24.832889</td>\n",
       "      <td>-0.694428</td>\n",
       "      <td>-11.175933</td>\n",
       "      <td>-0.45614</td>\n",
       "      <td>0.0</td>\n",
       "    </tr>\n",
       "    <tr>\n",
       "      <th>2</th>\n",
       "      <td>1.0</td>\n",
       "      <td>-92.139971</td>\n",
       "      <td>-95.469112</td>\n",
       "      <td>-106.080786</td>\n",
       "      <td>-139.596798</td>\n",
       "      <td>-111.498246</td>\n",
       "      <td>-142.90179</td>\n",
       "      <td>-16.08618</td>\n",
       "      <td>-65.076097</td>\n",
       "      <td>-6.783660</td>\n",
       "      <td>...</td>\n",
       "      <td>-977.373846</td>\n",
       "      <td>-613.770792</td>\n",
       "      <td>-25.996269</td>\n",
       "      <td>-37.630448</td>\n",
       "      <td>-304.747724</td>\n",
       "      <td>-25.832889</td>\n",
       "      <td>-0.694428</td>\n",
       "      <td>-12.175933</td>\n",
       "      <td>-0.45614</td>\n",
       "      <td>0.0</td>\n",
       "    </tr>\n",
       "    <tr>\n",
       "      <th>3</th>\n",
       "      <td>5.0</td>\n",
       "      <td>54.880029</td>\n",
       "      <td>12.970888</td>\n",
       "      <td>54.079214</td>\n",
       "      <td>-9.116798</td>\n",
       "      <td>48.661754</td>\n",
       "      <td>-30.22179</td>\n",
       "      <td>60.17382</td>\n",
       "      <td>87.453903</td>\n",
       "      <td>-6.783660</td>\n",
       "      <td>...</td>\n",
       "      <td>-977.373846</td>\n",
       "      <td>-613.770792</td>\n",
       "      <td>-25.996269</td>\n",
       "      <td>-18.630448</td>\n",
       "      <td>-133.747724</td>\n",
       "      <td>-14.832889</td>\n",
       "      <td>-0.694428</td>\n",
       "      <td>-1.175933</td>\n",
       "      <td>-0.45614</td>\n",
       "      <td>0.0</td>\n",
       "    </tr>\n",
       "    <tr>\n",
       "      <th>4</th>\n",
       "      <td>1.0</td>\n",
       "      <td>45.160029</td>\n",
       "      <td>295.240888</td>\n",
       "      <td>64.679214</td>\n",
       "      <td>344.283202</td>\n",
       "      <td>59.261754</td>\n",
       "      <td>323.17821</td>\n",
       "      <td>-16.08618</td>\n",
       "      <td>-65.076097</td>\n",
       "      <td>-6.783660</td>\n",
       "      <td>...</td>\n",
       "      <td>-965.373846</td>\n",
       "      <td>-612.770792</td>\n",
       "      <td>-22.996269</td>\n",
       "      <td>-32.630448</td>\n",
       "      <td>-127.747724</td>\n",
       "      <td>-4.832889</td>\n",
       "      <td>-0.694428</td>\n",
       "      <td>-12.175933</td>\n",
       "      <td>-0.45614</td>\n",
       "      <td>0.0</td>\n",
       "    </tr>\n",
       "  </tbody>\n",
       "</table>\n",
       "<p>5 rows × 254 columns</p>\n",
       "</div>"
      ],
      "text/plain": [
       "   vas_id           0           1           2           3           4  \\\n",
       "0     8.0  -31.559971  327.360888  -45.500786  274.753202  -50.918246   \n",
       "1     4.0  547.270029  238.430888  533.329214  274.803202  527.911754   \n",
       "2     1.0  -92.139971  -95.469112 -106.080786 -139.596798 -111.498246   \n",
       "3     5.0   54.880029   12.970888   54.079214   -9.116798   48.661754   \n",
       "4     1.0   45.160029  295.240888   64.679214  344.283202   59.261754   \n",
       "\n",
       "           5         6           7         8  ...         243         244  \\\n",
       "0  253.64821  49.15382  195.883903 -1.835267  ... -845.373846 -613.770792   \n",
       "1  253.69821 -16.08618  -65.076097 -6.783660  ... -972.373846 -613.770792   \n",
       "2 -142.90179 -16.08618  -65.076097 -6.783660  ... -977.373846 -613.770792   \n",
       "3  -30.22179  60.17382   87.453903 -6.783660  ... -977.373846 -613.770792   \n",
       "4  323.17821 -16.08618  -65.076097 -6.783660  ... -965.373846 -612.770792   \n",
       "\n",
       "         245        246         247        248       249        250       251  \\\n",
       "0 -20.996269 -37.630448  -28.747724   4.167111  7.305572 -12.175933  21.54386   \n",
       "1 -25.996269 -19.630448 -278.747724 -24.832889 -0.694428 -11.175933  -0.45614   \n",
       "2 -25.996269 -37.630448 -304.747724 -25.832889 -0.694428 -12.175933  -0.45614   \n",
       "3 -25.996269 -18.630448 -133.747724 -14.832889 -0.694428  -1.175933  -0.45614   \n",
       "4 -22.996269 -32.630448 -127.747724  -4.832889 -0.694428 -12.175933  -0.45614   \n",
       "\n",
       "   252  \n",
       "0  0.0  \n",
       "1  0.0  \n",
       "2  0.0  \n",
       "3  0.0  \n",
       "4  0.0  \n",
       "\n",
       "[5 rows x 254 columns]"
      ]
     },
     "execution_count": 34,
     "metadata": {},
     "output_type": "execute_result"
    }
   ],
   "source": [
    "X.head()"
   ]
  },
  {
   "cell_type": "code",
   "execution_count": 35,
   "id": "e525939d",
   "metadata": {
    "scrolled": true
   },
   "outputs": [
    {
     "data": {
      "text/plain": [
       "((860052, 254), (860052,))"
      ]
     },
     "execution_count": 35,
     "metadata": {},
     "output_type": "execute_result"
    }
   ],
   "source": [
    "X.shape, y.shape"
   ]
  },
  {
   "cell_type": "markdown",
   "id": "b43185b5",
   "metadata": {},
   "source": [
    "254 признака и 860052 объекта"
   ]
  },
  {
   "cell_type": "markdown",
   "id": "6d5e6751",
   "metadata": {},
   "source": [
    "### Определение типов признаков"
   ]
  },
  {
   "cell_type": "markdown",
   "id": "e019c8dc",
   "metadata": {},
   "source": [
    "Все"
   ]
  },
  {
   "cell_type": "code",
   "execution_count": 36,
   "id": "3b55eae0",
   "metadata": {},
   "outputs": [],
   "source": [
    "X_nunique_feats = X.apply(lambda x: x.nunique(dropna=False))"
   ]
  },
  {
   "cell_type": "code",
   "execution_count": 37,
   "id": "4c191de0",
   "metadata": {},
   "outputs": [
    {
     "data": {
      "text/plain": [
       "254"
      ]
     },
     "execution_count": 37,
     "metadata": {},
     "output_type": "execute_result"
    }
   ],
   "source": [
    "f_all = set(X_nunique_feats.index.tolist())\n",
    "len(f_all)"
   ]
  },
  {
   "cell_type": "markdown",
   "id": "f0a7b824",
   "metadata": {},
   "source": [
    "**Константные признаки**"
   ]
  },
  {
   "cell_type": "code",
   "execution_count": 38,
   "id": "bf89609f",
   "metadata": {},
   "outputs": [
    {
     "data": {
      "text/plain": [
       "5"
      ]
     },
     "execution_count": 38,
     "metadata": {},
     "output_type": "execute_result"
    }
   ],
   "source": [
    "f_const = set(X_nunique_feats[X_nunique_feats == 1].index.tolist())\n",
    "len(f_const)"
   ]
  },
  {
   "cell_type": "code",
   "execution_count": 39,
   "id": "a8b645e0",
   "metadata": {},
   "outputs": [
    {
     "data": {
      "text/plain": [
       "{'139', '203', '75', '81', '85'}"
      ]
     },
     "execution_count": 39,
     "metadata": {},
     "output_type": "execute_result"
    }
   ],
   "source": [
    "f_const"
   ]
  },
  {
   "cell_type": "markdown",
   "id": "5acb5bf2",
   "metadata": {},
   "source": [
    "**Вещественные признаки**"
   ]
  },
  {
   "cell_type": "code",
   "execution_count": 40,
   "id": "bc61776e",
   "metadata": {},
   "outputs": [
    {
     "data": {
      "text/plain": [
       "247"
      ]
     },
     "execution_count": 40,
     "metadata": {},
     "output_type": "execute_result"
    }
   ],
   "source": [
    "f_numeric = (X.astype(int).sum() - X.sum()).abs()\n",
    "f_numeric = set(f_numeric[f_numeric > 0].index.tolist())\n",
    "len(f_numeric)"
   ]
  },
  {
   "cell_type": "code",
   "execution_count": 41,
   "id": "7a5d73d8",
   "metadata": {},
   "outputs": [
    {
     "data": {
      "text/plain": [
       "['29', '7', '234', '147', '151']"
      ]
     },
     "execution_count": 41,
     "metadata": {},
     "output_type": "execute_result"
    }
   ],
   "source": [
    "list(f_numeric)[:5]"
   ]
  },
  {
   "cell_type": "code",
   "execution_count": 42,
   "id": "82807228",
   "metadata": {
    "scrolled": true
   },
   "outputs": [
    {
     "data": {
      "text/plain": [
       "2"
      ]
     },
     "execution_count": 42,
     "metadata": {},
     "output_type": "execute_result"
    }
   ],
   "source": [
    "f_other = f_all - (f_numeric | f_const)\n",
    "len(f_other)"
   ]
  },
  {
   "cell_type": "markdown",
   "id": "6269cb94",
   "metadata": {},
   "source": [
    "**Бинарные признаки**"
   ]
  },
  {
   "cell_type": "code",
   "execution_count": 43,
   "id": "170816e5",
   "metadata": {
    "scrolled": true
   },
   "outputs": [
    {
     "data": {
      "text/plain": [
       "0"
      ]
     },
     "execution_count": 43,
     "metadata": {},
     "output_type": "execute_result"
    }
   ],
   "source": [
    "f_binary = set(X.loc[:, f_other].columns[(\n",
    "                      (X.loc[:, f_other].max() == 1) & \\\n",
    "                      (X.loc[:, f_other].min() == 0) & \\\n",
    "                      (X.loc[:, f_other].isnull().sum() == 0))])\n",
    "len(f_binary)"
   ]
  },
  {
   "cell_type": "code",
   "execution_count": 44,
   "id": "e781d080",
   "metadata": {},
   "outputs": [
    {
     "data": {
      "text/plain": [
       "2"
      ]
     },
     "execution_count": 44,
     "metadata": {},
     "output_type": "execute_result"
    }
   ],
   "source": [
    "f_other = f_other - f_binary\n",
    "len(f_other)"
   ]
  },
  {
   "cell_type": "code",
   "execution_count": 45,
   "id": "606dab43",
   "metadata": {},
   "outputs": [
    {
     "data": {
      "text/plain": [
       "{'252', 'vas_id'}"
      ]
     },
     "execution_count": 45,
     "metadata": {},
     "output_type": "execute_result"
    }
   ],
   "source": [
    "f_other"
   ]
  },
  {
   "cell_type": "markdown",
   "id": "3bdb7f16",
   "metadata": {},
   "source": [
    "**Категориальные признаки**"
   ]
  },
  {
   "cell_type": "code",
   "execution_count": 46,
   "id": "1b175dcf",
   "metadata": {},
   "outputs": [],
   "source": [
    "f_categorical = set(X_nunique_feats.loc[f_other][X_nunique_feats.loc[f_other] <= 10].index.tolist())\n",
    "f_numeric_extra = f_categorical"
   ]
  },
  {
   "cell_type": "code",
   "execution_count": 47,
   "id": "771f8e53",
   "metadata": {},
   "outputs": [
    {
     "data": {
      "text/plain": [
       "{'vas_id'}"
      ]
     },
     "execution_count": 47,
     "metadata": {},
     "output_type": "execute_result"
    }
   ],
   "source": [
    "f_categorical"
   ]
  },
  {
   "cell_type": "code",
   "execution_count": 48,
   "id": "47b11ebb",
   "metadata": {},
   "outputs": [
    {
     "data": {
      "text/plain": [
       "1"
      ]
     },
     "execution_count": 48,
     "metadata": {},
     "output_type": "execute_result"
    }
   ],
   "source": [
    "f_other = f_other - f_categorical\n",
    "len(f_other)"
   ]
  },
  {
   "cell_type": "markdown",
   "id": "be5ce5e4",
   "metadata": {},
   "source": [
    "Нераспределенный признак:"
   ]
  },
  {
   "cell_type": "code",
   "execution_count": 49,
   "id": "55e31c6a",
   "metadata": {
    "scrolled": false
   },
   "outputs": [
    {
     "data": {
      "text/plain": [
       "0.0       642435\n",
       "1.0       217573\n",
       "2.0            5\n",
       "8.0            3\n",
       "3.0            3\n",
       "10.0           3\n",
       "13.0           2\n",
       "4.0            2\n",
       "11.0           2\n",
       "5.0            2\n",
       "7.0            2\n",
       "22.0           1\n",
       "299.0          1\n",
       "68.0           1\n",
       "77.0           1\n",
       "182.0          1\n",
       "223.0          1\n",
       "283.0          1\n",
       "195.0          1\n",
       "42.0           1\n",
       "44.0           1\n",
       "19.0           1\n",
       "6.0            1\n",
       "1743.0         1\n",
       "16.0           1\n",
       "36.0           1\n",
       "24.0           1\n",
       "251.0          1\n",
       "18.0           1\n",
       "84.0           1\n",
       "284.0          1\n",
       "Name: 252, dtype: int64"
      ]
     },
     "execution_count": 49,
     "metadata": {},
     "output_type": "execute_result"
    }
   ],
   "source": [
    "X['252'].value_counts()"
   ]
  },
  {
   "cell_type": "markdown",
   "id": "3925f80e",
   "metadata": {},
   "source": [
    "Видимо от него нужно избавиться. Почти все признаки вещественные."
   ]
  },
  {
   "cell_type": "markdown",
   "id": "e9c752bc",
   "metadata": {},
   "source": [
    "## 3. Разбиение на train и test <a class='anchor' id='split'>\n"
   ]
  },
  {
   "cell_type": "code",
   "execution_count": 50,
   "id": "35961253",
   "metadata": {},
   "outputs": [],
   "source": [
    "X_train, X_test, y_train, y_test = train_test_split(X.drop('252', axis=1), y, test_size=0.33, shuffle=True, random_state=12)"
   ]
  },
  {
   "cell_type": "markdown",
   "id": "ee0f3f53",
   "metadata": {},
   "source": [
    "## 4. Моделирование <a class='anchor' id='modeling'>\n",
    "\n",
    "\n",
    "Обучение финальной модели"
   ]
  },
  {
   "cell_type": "code",
   "execution_count": 51,
   "id": "18f924fc",
   "metadata": {},
   "outputs": [],
   "source": [
    "ctb = catb.CatBoostClassifier(silent = True, \n",
    "                              loss_function='Logloss',\n",
    "                              eval_metric='Accuracy',\n",
    "                              auto_class_weights=None,\n",
    "                              random_state=12)"
   ]
  },
  {
   "cell_type": "code",
   "execution_count": 52,
   "id": "d16b9580",
   "metadata": {},
   "outputs": [
    {
     "data": {
      "text/plain": [
       "<catboost.core.CatBoostClassifier at 0x1f2003ab1c0>"
      ]
     },
     "execution_count": 52,
     "metadata": {},
     "output_type": "execute_result"
    }
   ],
   "source": [
    "ctb.fit(X_train, y_train)"
   ]
  },
  {
   "cell_type": "markdown",
   "id": "8b864b3e",
   "metadata": {},
   "source": [
    "## 5. Оценка <a class='anchor' id='evaluation'>\n",
    "\n",
    "Оценка качества финальной модели (расчет метрик)"
   ]
  },
  {
   "cell_type": "code",
   "execution_count": 53,
   "id": "e028cbb9",
   "metadata": {},
   "outputs": [],
   "source": [
    "y_test_raw_pred = ctb.predict(X_test, prediction_type='RawFormulaVal')\n",
    "y_train_raw_pred = ctb.predict(X_train, prediction_type='RawFormulaVal')"
   ]
  },
  {
   "cell_type": "code",
   "execution_count": 54,
   "id": "5efe86f3",
   "metadata": {},
   "outputs": [],
   "source": [
    "probabilities_test = sigmoid(y_test_raw_pred)\n",
    "probabilities_train = sigmoid(y_train_raw_pred)"
   ]
  },
  {
   "cell_type": "code",
   "execution_count": 55,
   "id": "62ec58ad",
   "metadata": {},
   "outputs": [],
   "source": [
    "thresholds = np.linspace(0, 1, 1001)\n",
    "f1_list = []\n",
    "for th in thresholds:\n",
    "    f1 = f1_score(y_test, probabilities_test > th, average='macro')\n",
    "    f1_list.append(f1)"
   ]
  },
  {
   "cell_type": "code",
   "execution_count": 56,
   "id": "a1348557",
   "metadata": {},
   "outputs": [
    {
     "data": {
      "text/plain": [
       "0.254"
      ]
     },
     "execution_count": 56,
     "metadata": {},
     "output_type": "execute_result"
    }
   ],
   "source": [
    "ix = np.argmax(np.array(f1_list))\n",
    "final_threshold = thresholds[ix]\n",
    "final_threshold"
   ]
  },
  {
   "cell_type": "code",
   "execution_count": 57,
   "id": "45b248b9",
   "metadata": {},
   "outputs": [
    {
     "name": "stdout",
     "output_type": "stream",
     "text": [
      "TRAIN\n",
      "\n",
      "              precision    recall  f1-score   support\n",
      "\n",
      "         0.0       0.97      0.93      0.95    534419\n",
      "         1.0       0.42      0.68      0.52     41815\n",
      "\n",
      "    accuracy                           0.91    576234\n",
      "   macro avg       0.70      0.80      0.74    576234\n",
      "weighted avg       0.93      0.91      0.92    576234\n",
      "\n",
      "TEST\n",
      "\n",
      "              precision    recall  f1-score   support\n",
      "\n",
      "         0.0       0.97      0.92      0.94    263426\n",
      "         1.0       0.35      0.57      0.44     20392\n",
      "\n",
      "    accuracy                           0.89    283818\n",
      "   macro avg       0.66      0.74      0.69    283818\n",
      "weighted avg       0.92      0.89      0.91    283818\n",
      "\n"
     ]
    }
   ],
   "source": [
    "get_classification_report(y_train, \n",
    "                          probabilities_train > final_threshold, \n",
    "                          y_test, \n",
    "                          probabilities_test > final_threshold)"
   ]
  },
  {
   "cell_type": "markdown",
   "id": "49b70c2a",
   "metadata": {},
   "source": [
    "Сохраним лучшую модель"
   ]
  },
  {
   "cell_type": "code",
   "execution_count": 58,
   "id": "1cf382d8",
   "metadata": {},
   "outputs": [],
   "source": [
    "pickle.dump(ctb, open(MODEL_PATH, 'wb'))"
   ]
  },
  {
   "cell_type": "markdown",
   "id": "d12c88a2",
   "metadata": {},
   "source": [
    "## 6. Предсказание <a class='anchor' id='prediction'>\n",
    "\n",
    "Делаем предсказание на тестовом датасете и записываем результат в файл как того требует задание."
   ]
  },
  {
   "cell_type": "code",
   "execution_count": 59,
   "id": "797b4df4",
   "metadata": {},
   "outputs": [],
   "source": [
    "feats_drop_list = ['id', '252']"
   ]
  },
  {
   "cell_type": "markdown",
   "id": "beafed57",
   "metadata": {},
   "source": [
    "#### Загрузка тестовых данных"
   ]
  },
  {
   "cell_type": "code",
   "execution_count": 60,
   "id": "2f348640",
   "metadata": {},
   "outputs": [],
   "source": [
    "test_df = pd.read_csv(RAW_TEST_DATASET_PATH)\n",
    "features_df = dd.read_csv(RAW_FEATURES_DATASET_PATH, delimiter='\\t')\n",
    "te = test_df.drop(['Unnamed: 0', 'buy_time'], axis=1)\n",
    "ft = features_df.drop(['Unnamed: 0', 'buy_time'], axis=1)"
   ]
  },
  {
   "cell_type": "code",
   "execution_count": 61,
   "id": "2bac34d0",
   "metadata": {},
   "outputs": [],
   "source": [
    "ft = ft.compute()\n",
    "test_with_feats_df = te.merge(ft.drop_duplicates(subset=['id']), how='left')"
   ]
  },
  {
   "cell_type": "code",
   "execution_count": 73,
   "id": "016b35f7",
   "metadata": {},
   "outputs": [
    {
     "data": {
      "text/plain": [
       "((71231, 2), (71231, 253))"
      ]
     },
     "execution_count": 73,
     "metadata": {},
     "output_type": "execute_result"
    }
   ],
   "source": [
    "te.shape, test_with_feats_df.shape"
   ]
  },
  {
   "cell_type": "code",
   "execution_count": 63,
   "id": "ae2cf141",
   "metadata": {},
   "outputs": [],
   "source": [
    "# save\n",
    "test_with_feats_df.to_csv(PREPARED_TEST_DATASET_PATH, index=False)"
   ]
  },
  {
   "cell_type": "code",
   "execution_count": 64,
   "id": "97790aba",
   "metadata": {
    "scrolled": false
   },
   "outputs": [],
   "source": [
    "test_with_feats_df = test_with_feats_df.drop(feats_drop_list, axis=1)"
   ]
  },
  {
   "cell_type": "code",
   "execution_count": 65,
   "id": "28baa1bd",
   "metadata": {},
   "outputs": [
    {
     "data": {
      "text/html": [
       "<div>\n",
       "<style scoped>\n",
       "    .dataframe tbody tr th:only-of-type {\n",
       "        vertical-align: middle;\n",
       "    }\n",
       "\n",
       "    .dataframe tbody tr th {\n",
       "        vertical-align: top;\n",
       "    }\n",
       "\n",
       "    .dataframe thead th {\n",
       "        text-align: right;\n",
       "    }\n",
       "</style>\n",
       "<table border=\"1\" class=\"dataframe\">\n",
       "  <thead>\n",
       "    <tr style=\"text-align: right;\">\n",
       "      <th></th>\n",
       "      <th>vas_id</th>\n",
       "      <th>0</th>\n",
       "      <th>1</th>\n",
       "      <th>2</th>\n",
       "      <th>3</th>\n",
       "      <th>4</th>\n",
       "      <th>5</th>\n",
       "      <th>6</th>\n",
       "      <th>7</th>\n",
       "      <th>8</th>\n",
       "      <th>...</th>\n",
       "      <th>242</th>\n",
       "      <th>243</th>\n",
       "      <th>244</th>\n",
       "      <th>245</th>\n",
       "      <th>246</th>\n",
       "      <th>247</th>\n",
       "      <th>248</th>\n",
       "      <th>249</th>\n",
       "      <th>250</th>\n",
       "      <th>251</th>\n",
       "    </tr>\n",
       "  </thead>\n",
       "  <tbody>\n",
       "    <tr>\n",
       "      <th>0</th>\n",
       "      <td>2.0</td>\n",
       "      <td>-62.899971</td>\n",
       "      <td>-374.279112</td>\n",
       "      <td>-72.600786</td>\n",
       "      <td>-418.406798</td>\n",
       "      <td>-78.018246</td>\n",
       "      <td>-439.51179</td>\n",
       "      <td>17.81382</td>\n",
       "      <td>-31.176097</td>\n",
       "      <td>-6.78366</td>\n",
       "      <td>...</td>\n",
       "      <td>-17.295406</td>\n",
       "      <td>-970.373846</td>\n",
       "      <td>-613.770792</td>\n",
       "      <td>-25.996269</td>\n",
       "      <td>-37.630448</td>\n",
       "      <td>-258.747724</td>\n",
       "      <td>-25.832889</td>\n",
       "      <td>-0.694428</td>\n",
       "      <td>-12.175933</td>\n",
       "      <td>-0.45614</td>\n",
       "    </tr>\n",
       "    <tr>\n",
       "      <th>1</th>\n",
       "      <td>4.0</td>\n",
       "      <td>-96.799971</td>\n",
       "      <td>100.290888</td>\n",
       "      <td>-110.740786</td>\n",
       "      <td>140.903202</td>\n",
       "      <td>-116.158246</td>\n",
       "      <td>119.79821</td>\n",
       "      <td>-16.08618</td>\n",
       "      <td>-65.076097</td>\n",
       "      <td>-6.78366</td>\n",
       "      <td>...</td>\n",
       "      <td>-17.295406</td>\n",
       "      <td>-977.373846</td>\n",
       "      <td>-613.770792</td>\n",
       "      <td>-25.996269</td>\n",
       "      <td>-37.630448</td>\n",
       "      <td>-254.747724</td>\n",
       "      <td>-25.832889</td>\n",
       "      <td>-0.694428</td>\n",
       "      <td>-12.175933</td>\n",
       "      <td>-0.45614</td>\n",
       "    </tr>\n",
       "    <tr>\n",
       "      <th>2</th>\n",
       "      <td>2.0</td>\n",
       "      <td>-81.969971</td>\n",
       "      <td>-390.729112</td>\n",
       "      <td>-95.910786</td>\n",
       "      <td>-443.336798</td>\n",
       "      <td>-101.328246</td>\n",
       "      <td>-464.44179</td>\n",
       "      <td>-16.08618</td>\n",
       "      <td>-65.076097</td>\n",
       "      <td>-6.78366</td>\n",
       "      <td>...</td>\n",
       "      <td>-17.295406</td>\n",
       "      <td>-977.373846</td>\n",
       "      <td>-613.770792</td>\n",
       "      <td>-25.996269</td>\n",
       "      <td>-37.630448</td>\n",
       "      <td>-306.747724</td>\n",
       "      <td>-25.832889</td>\n",
       "      <td>-0.694428</td>\n",
       "      <td>-12.175933</td>\n",
       "      <td>-0.45614</td>\n",
       "    </tr>\n",
       "    <tr>\n",
       "      <th>3</th>\n",
       "      <td>5.0</td>\n",
       "      <td>259.130029</td>\n",
       "      <td>-52.249112</td>\n",
       "      <td>245.189214</td>\n",
       "      <td>-104.856798</td>\n",
       "      <td>239.771754</td>\n",
       "      <td>-125.96179</td>\n",
       "      <td>-16.08618</td>\n",
       "      <td>-65.076097</td>\n",
       "      <td>-6.78366</td>\n",
       "      <td>...</td>\n",
       "      <td>-17.295406</td>\n",
       "      <td>-977.373846</td>\n",
       "      <td>-613.770792</td>\n",
       "      <td>-25.996269</td>\n",
       "      <td>-37.630448</td>\n",
       "      <td>-306.747724</td>\n",
       "      <td>-25.832889</td>\n",
       "      <td>-0.694428</td>\n",
       "      <td>-12.175933</td>\n",
       "      <td>-0.45614</td>\n",
       "    </tr>\n",
       "    <tr>\n",
       "      <th>4</th>\n",
       "      <td>2.0</td>\n",
       "      <td>331.170029</td>\n",
       "      <td>590.890888</td>\n",
       "      <td>317.229214</td>\n",
       "      <td>538.283202</td>\n",
       "      <td>311.811754</td>\n",
       "      <td>522.25821</td>\n",
       "      <td>-16.08618</td>\n",
       "      <td>-65.076097</td>\n",
       "      <td>-6.78366</td>\n",
       "      <td>...</td>\n",
       "      <td>-17.295406</td>\n",
       "      <td>-651.373846</td>\n",
       "      <td>-612.770792</td>\n",
       "      <td>1.003731</td>\n",
       "      <td>-36.630448</td>\n",
       "      <td>38.252276</td>\n",
       "      <td>-12.832889</td>\n",
       "      <td>-0.694428</td>\n",
       "      <td>-12.175933</td>\n",
       "      <td>12.54386</td>\n",
       "    </tr>\n",
       "  </tbody>\n",
       "</table>\n",
       "<p>5 rows × 253 columns</p>\n",
       "</div>"
      ],
      "text/plain": [
       "   vas_id           0           1           2           3           4  \\\n",
       "0     2.0  -62.899971 -374.279112  -72.600786 -418.406798  -78.018246   \n",
       "1     4.0  -96.799971  100.290888 -110.740786  140.903202 -116.158246   \n",
       "2     2.0  -81.969971 -390.729112  -95.910786 -443.336798 -101.328246   \n",
       "3     5.0  259.130029  -52.249112  245.189214 -104.856798  239.771754   \n",
       "4     2.0  331.170029  590.890888  317.229214  538.283202  311.811754   \n",
       "\n",
       "           5         6          7        8  ...        242         243  \\\n",
       "0 -439.51179  17.81382 -31.176097 -6.78366  ... -17.295406 -970.373846   \n",
       "1  119.79821 -16.08618 -65.076097 -6.78366  ... -17.295406 -977.373846   \n",
       "2 -464.44179 -16.08618 -65.076097 -6.78366  ... -17.295406 -977.373846   \n",
       "3 -125.96179 -16.08618 -65.076097 -6.78366  ... -17.295406 -977.373846   \n",
       "4  522.25821 -16.08618 -65.076097 -6.78366  ... -17.295406 -651.373846   \n",
       "\n",
       "          244        245        246         247        248       249  \\\n",
       "0 -613.770792 -25.996269 -37.630448 -258.747724 -25.832889 -0.694428   \n",
       "1 -613.770792 -25.996269 -37.630448 -254.747724 -25.832889 -0.694428   \n",
       "2 -613.770792 -25.996269 -37.630448 -306.747724 -25.832889 -0.694428   \n",
       "3 -613.770792 -25.996269 -37.630448 -306.747724 -25.832889 -0.694428   \n",
       "4 -612.770792   1.003731 -36.630448   38.252276 -12.832889 -0.694428   \n",
       "\n",
       "         250       251  \n",
       "0 -12.175933  -0.45614  \n",
       "1 -12.175933  -0.45614  \n",
       "2 -12.175933  -0.45614  \n",
       "3 -12.175933  -0.45614  \n",
       "4 -12.175933  12.54386  \n",
       "\n",
       "[5 rows x 253 columns]"
      ]
     },
     "execution_count": 65,
     "metadata": {},
     "output_type": "execute_result"
    }
   ],
   "source": [
    "test_with_feats_df.head()"
   ]
  },
  {
   "cell_type": "markdown",
   "id": "96a971d1",
   "metadata": {},
   "source": [
    "**Загрузка модели**"
   ]
  },
  {
   "cell_type": "code",
   "execution_count": 74,
   "id": "a6820b4d",
   "metadata": {},
   "outputs": [],
   "source": [
    "loaded_model = pickle.load(open(MODEL_PATH, 'rb'))"
   ]
  },
  {
   "cell_type": "markdown",
   "id": "42fa3553",
   "metadata": {},
   "source": [
    "**Предсказание**"
   ]
  },
  {
   "cell_type": "code",
   "execution_count": 75,
   "id": "81e6822d",
   "metadata": {},
   "outputs": [],
   "source": [
    "final_threshold = 0.254"
   ]
  },
  {
   "cell_type": "code",
   "execution_count": 76,
   "id": "0bdaace6",
   "metadata": {},
   "outputs": [],
   "source": [
    "predictions = loaded_model.predict(test_with_feats_df, prediction_type='RawFormulaVal')\n",
    "predictions = sigmoid(predictions)\n",
    "final_predictions = predictions > final_threshold"
   ]
  },
  {
   "cell_type": "code",
   "execution_count": 77,
   "id": "699180e2",
   "metadata": {},
   "outputs": [
    {
     "data": {
      "text/plain": [
       "((71231, 4), (71231,))"
      ]
     },
     "execution_count": 77,
     "metadata": {},
     "output_type": "execute_result"
    }
   ],
   "source": [
    "test_df.shape, final_predictions.shape"
   ]
  },
  {
   "cell_type": "markdown",
   "id": "5839b1e8",
   "metadata": {},
   "source": [
    "**Сохранение предсказания**"
   ]
  },
  {
   "cell_type": "code",
   "execution_count": 78,
   "id": "812a2d8f",
   "metadata": {},
   "outputs": [
    {
     "data": {
      "text/html": [
       "<div>\n",
       "<style scoped>\n",
       "    .dataframe tbody tr th:only-of-type {\n",
       "        vertical-align: middle;\n",
       "    }\n",
       "\n",
       "    .dataframe tbody tr th {\n",
       "        vertical-align: top;\n",
       "    }\n",
       "\n",
       "    .dataframe thead th {\n",
       "        text-align: right;\n",
       "    }\n",
       "</style>\n",
       "<table border=\"1\" class=\"dataframe\">\n",
       "  <thead>\n",
       "    <tr style=\"text-align: right;\">\n",
       "      <th></th>\n",
       "      <th>id</th>\n",
       "      <th>vas_id</th>\n",
       "      <th>buy_time</th>\n",
       "      <th>target</th>\n",
       "    </tr>\n",
       "  </thead>\n",
       "  <tbody>\n",
       "    <tr>\n",
       "      <th>0</th>\n",
       "      <td>3130519</td>\n",
       "      <td>2.0</td>\n",
       "      <td>1548018000</td>\n",
       "      <td>0</td>\n",
       "    </tr>\n",
       "    <tr>\n",
       "      <th>1</th>\n",
       "      <td>2000860</td>\n",
       "      <td>4.0</td>\n",
       "      <td>1548018000</td>\n",
       "      <td>1</td>\n",
       "    </tr>\n",
       "    <tr>\n",
       "      <th>2</th>\n",
       "      <td>1099444</td>\n",
       "      <td>2.0</td>\n",
       "      <td>1546808400</td>\n",
       "      <td>0</td>\n",
       "    </tr>\n",
       "    <tr>\n",
       "      <th>3</th>\n",
       "      <td>1343255</td>\n",
       "      <td>5.0</td>\n",
       "      <td>1547413200</td>\n",
       "      <td>0</td>\n",
       "    </tr>\n",
       "    <tr>\n",
       "      <th>4</th>\n",
       "      <td>1277040</td>\n",
       "      <td>2.0</td>\n",
       "      <td>1546808400</td>\n",
       "      <td>0</td>\n",
       "    </tr>\n",
       "  </tbody>\n",
       "</table>\n",
       "</div>"
      ],
      "text/plain": [
       "        id  vas_id    buy_time  target\n",
       "0  3130519     2.0  1548018000       0\n",
       "1  2000860     4.0  1548018000       1\n",
       "2  1099444     2.0  1546808400       0\n",
       "3  1343255     5.0  1547413200       0\n",
       "4  1277040     2.0  1546808400       0"
      ]
     },
     "execution_count": 78,
     "metadata": {},
     "output_type": "execute_result"
    }
   ],
   "source": [
    "results = test_df.drop('Unnamed: 0', axis=1)\n",
    "results['target'] = final_predictions.astype(int)\n",
    "results.head()"
   ]
  },
  {
   "cell_type": "code",
   "execution_count": 79,
   "id": "67702364",
   "metadata": {},
   "outputs": [
    {
     "data": {
      "text/plain": [
       "(71231, 4)"
      ]
     },
     "execution_count": 79,
     "metadata": {},
     "output_type": "execute_result"
    }
   ],
   "source": [
    "results.shape"
   ]
  },
  {
   "cell_type": "code",
   "execution_count": 80,
   "id": "58624f56",
   "metadata": {},
   "outputs": [],
   "source": [
    "results.to_csv(TEST_PREDICTIONS_PATH, index=False)"
   ]
  },
  {
   "cell_type": "markdown",
   "id": "cdd5d246",
   "metadata": {},
   "source": [
    "---"
   ]
  }
 ],
 "metadata": {
  "kernelspec": {
   "display_name": "Python 3 (ipykernel)",
   "language": "python",
   "name": "python3"
  },
  "language_info": {
   "codemirror_mode": {
    "name": "ipython",
    "version": 3
   },
   "file_extension": ".py",
   "mimetype": "text/x-python",
   "name": "python",
   "nbconvert_exporter": "python",
   "pygments_lexer": "ipython3",
   "version": "3.10.9"
  }
 },
 "nbformat": 4,
 "nbformat_minor": 5
}
